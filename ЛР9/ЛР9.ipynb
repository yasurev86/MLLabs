{
  "cells": [
    {
      "cell_type": "markdown",
      "metadata": {
        "id": "m2s4kN_QPQVe"
      },
      "source": [
        "# Введение в обучение с подкреплением  (Reinforcement Learning)\n",
        "\n",
        "\n",
        "<center>\n",
        "<img src=\"https://raw.githubusercontent.com/jcformanek/jcformanek.github.io/master/docs/assets/images/rl_in_space.png\" width=\"100%\" />\n",
        "</center>\n",
        "\n",
        "\n",
        "\n",
        "**Введение**\n",
        "\n",
        "На этом семинаре мы изучим обучение с подкреплением - тип машинного обучения без учителя, где агент учится выбирать действия, которые приводят к максимальному вознаграждению в долгосрочной перспективе. Обучение с подкреплением используется в широком спектре сложных задач, в том числе - в видеоиграх, например, [Atari](https://www.deepmind.com/blog/agent57-outperforming-the-human-atari-benchmark), [StarCraft II](https://www.deepmind.com/blog/alphastar-mastering-the-real-time-strategy-game-starcraft-ii) и [Dota II](https://openai.com/five/).\n",
        "\n",
        "На семинаре изучим классическую среду - [CartPole](https://www.gymlibrary.ml/environments/classic_control/cart_pole/), где агент должен научиться балансировать шестом на тележке (см лекцию), используя несколько различных подходов RL. По пути вы познакомитесь с некоторыми из самых важных концепций и терминологии в RL.\n",
        "\n",
        "**Темы:**\n",
        "* Reinforcement Learning (RL, Обучение с подкреплением)\n",
        "* Random Policy Search (Случайный поиск политики)\n",
        "* Policy Gradient (Градиент политики)\n",
        "* Q-Learning\n",
        "\n",
        "\n",
        "**Что надо сделать для лучшего понимания:**\n",
        "\n",
        "* почитать про библиотеку [JAX](https://github.com/google/jax).\n",
        "* вспомнить нейроки.\n",
        "\n"
      ]
    },
    {
      "cell_type": "markdown",
      "metadata": {
        "id": "6EqhIg1odqg0"
      },
      "source": [
        "### Настраиваем среду"
      ]
    },
    {
      "cell_type": "code",
      "execution_count": null,
      "metadata": {
        "id": "4boGA9rYdt9l"
      },
      "outputs": [],
      "source": [
        "# @title Установка необходимых пакетов (надо просто запустить!) { display-mode: \"form\" }\n",
        "# @markdown Может занять несколько минут\n",
        "%%capture\n",
        "!pip install jaxlib\n",
        "!pip install jax\n",
        "!pip install git+https://github.com/deepmind/dm-haiku\n",
        "!pip install gym==0.25\n",
        "!pip install gym[box2d]\n",
        "!pip install optax\n",
        "!pip install matplotlib\n",
        "!pip install chex\n",
        "!pip install gym[classic_control]"
      ]
    },
    {
      "cell_type": "code",
      "execution_count": null,
      "metadata": {
        "id": "gwbqggmcRjMy"
      },
      "outputs": [],
      "source": [
        "# @title Импорт необходимых пакетов (просто запустите ячейку) { display-mode: \"form\" }\n",
        "%%capture\n",
        "import copy\n",
        "from shutil import rmtree # deleting directories\n",
        "import random\n",
        "import collections # useful data structures\n",
        "import numpy as np\n",
        "import gym # reinforcement learning environments\n",
        "from gym.wrappers import RecordVideo\n",
        "import jax\n",
        "import jax.numpy as jnp # jax numpy\n",
        "import haiku as hk # jax neural network library\n",
        "import optax # jax optimizer library\n",
        "import matplotlib.pyplot as plt # graph plotting library\n",
        "from IPython.display import HTML\n",
        "from base64 import b64encode\n",
        "import chex\n",
        "\n",
        "# Hide warnings\n",
        "import warnings\n",
        "warnings.filterwarnings('ignore')"
      ]
    },
    {
      "cell_type": "markdown",
      "metadata": {
        "id": "-ZUp8i37dFbU"
      },
      "source": [
        "## 1. Ключевые концепции обучения с подкреплением\n",
        "\n",
        "Обучение с подкреплением (RL) является подразделом машинного обучения (ML). В отличие от таких областей, как контролируемое обучение, где мы даем примеры ожидаемого поведения нашим моделям, RL фокусируется на *целеориентированном* обучении из взаимодействий методом проб и ошибок. Алгоритмы RL изучают, что делать (т. е. какие оптимальные действия предпринять) в среде, чтобы максимизировать некий сигнал вознаграждения. В таких условиях, как видеоигра, сигналом вознаграждения может быть счет игры, т. е. алгоритмы RL будут пытаться максимизировать счет в игре, выбирая лучшие действия.\n",
        "\n",
        "<center>\n",
        "<img src=\"https://pettingzoo.farama.org/_images/environments-demo.gif\" width=\"40%\" />\n",
        "</center>\n",
        "\n",
        "[*Image Source*](https://pettingzoo.farama.org/)\n",
        "\n",
        "Другими словами, в RL у нас есть **агент**, который воспринимает **наблюдение** $o_t$ текущего состояния $s_t$ **окружающей среды** и должен выбрать **действие** $a_t$ для выполнения.\n",
        "\n",
        "Затем окружающая среда переходит в новое состояние $s_{t+1}$ в ответ на действие агента, а также дает агенту скалярное вознаграждение $r_t$, чтобы указать, насколько хорошим или плохим было выбранное действие, учитывая состояние окружающей среды.\n",
        "\n",
        "Целью в RL является максимизация агентом суммы вознаграждения, которое он получает от окружающей среды с течением времени. Нижний индекс $t$ используется для указания номера временного шага, т. е. $s_0$ - это состояние окружающей среды на начальном временном шаге, а $a_{99}$ - это действие агента на $99-м$ временном шаге."
      ]
    },
    {
      "cell_type": "markdown",
      "metadata": {
        "id": "Ghgy69hFRjMz"
      },
      "source": [
        "### Среда - OpenAI Gym\n",
        "Как упоминалось выше, среда получает от агента действие $a_t$ и возвращает вознаграждение $r_t$ и наблюдение $o_t$.\n",
        "\n",
        "OpenAI разработал пакет для Python под названием **Gym**, который включает реализации популярных сред и простой интерфейс для взаимодействия агента RL. Чтобы использовать поддерживаемую [среду gym](https://www.gymlibrary.ml/), все, что вам нужно сделать, это передать имя среды в функцию  `gym.make(<environment_name>)`.\n",
        "\n",
        "В этом уроке мы будем использовать простую среду под названием **CartPole**. В CartPole задача агента — научиться балансировать на шесте как можно дольше, перемещая тележку *влево* или *вправо*.\n",
        "\n",
        "<img src=\"https://user-images.githubusercontent.com/10854026/32486103-f15f19de-c3a5-11e7-81de-0605df939497.gif\" width=\"50%\" />"
      ]
    },
    {
      "cell_type": "code",
      "execution_count": null,
      "metadata": {
        "id": "WfxzajMYRjMz"
      },
      "outputs": [],
      "source": [
        "# Create the environment\n",
        "env_name = \"CartPole-v0\"\n",
        "env = gym.make(env_name)"
      ]
    },
    {
      "cell_type": "markdown",
      "metadata": {
        "id": "y_BbftaJj3zu"
      },
      "source": [
        "### Состояние (States) и Наблюдение (Observations) - $s_t$ and $o_t$\n",
        "\n",
        "В RL агент воспринимает наблюдение за состоянием среды. В некоторых настройках наблюдение может включать всю информацию, лежащую в основе состояния среды. Такая среда называется **полностью наблюдаемой**. В других настройках агент может получать только частичную информацию о состоянии среды в своем наблюдении. Такая среда называется **частично наблюдаемой**.\n",
        "\n",
        "В оставшейся части этого руководства мы будем предполагать, что среда полностью наблюдаема, и поэтому будем использовать состояние $s_t$ и наблюдение $o_t$ взаимозаменяемо. В Gym мы получаем начальное наблюдение из среды, вызывая функцию `env.reset()`."
      ]
    },
    {
      "cell_type": "code",
      "execution_count": null,
      "metadata": {
        "id": "HdS8nqOgRjM0",
        "colab": {
          "base_uri": "https://localhost:8080/"
        },
        "outputId": "54eeeb8b-857b-4d93-b3e6-aaa6fecd5486"
      },
      "outputs": [
        {
          "output_type": "stream",
          "name": "stdout",
          "text": [
            "Initial State:: [-0.00455193 -0.02038411  0.03565788  0.02022139]\n",
            "Environment Obs Space Shape: (4,)\n"
          ]
        }
      ],
      "source": [
        "# Reset the environment\n",
        "s_0 = env.reset()\n",
        "print(\"Initial State::\", s_0)\n",
        "\n",
        "# Get environment obs space\n",
        "obs_shape = env.observation_space.shape\n",
        "print(\"Environment Obs Space Shape:\", obs_shape)"
      ]
    },
    {
      "cell_type": "markdown",
      "metadata": {
        "id": "pUNX6mbotABo"
      },
      "source": [
        "В CartPole состояние окружающей среды представлено четырьмя числами: *угловое положение полюса, угловая скорость полюса, положение тележки, скорость тележки*."
      ]
    },
    {
      "cell_type": "markdown",
      "metadata": {
        "id": "hL1Nkgy7nUfn"
      },
      "source": [
        "### Действия (Actions) - $a_t$\n",
        "\n",
        "В RL действия обычно либо **дискретные**, либо **непрерывные**. Непрерывные действия задаются вектором действительных чисел. Дискретные действия задаются целочисленным значением. В средах, где мы можем подсчитать конечный набор действий, мы обычно используем дискретные действия.\n",
        "\n",
        "В CartPole есть только два действия: *влево* и *вправо*. Таким образом, действия могут быть представлены целыми числами $0$ и $1$. В gym мы можем легко получить список возможных действий следующим образом:"
      ]
    },
    {
      "cell_type": "code",
      "execution_count": null,
      "metadata": {
        "id": "uOLZqU_LpIXh",
        "colab": {
          "base_uri": "https://localhost:8080/"
        },
        "outputId": "0b8889da-13b4-4cd6-eb33-9e1d0f7b2414"
      },
      "outputs": [
        {
          "output_type": "stream",
          "name": "stdout",
          "text": [
            "Environment action space: Discrete(2)\n",
            "Number of actions: 2\n"
          ]
        }
      ],
      "source": [
        "# Get action space - e.g. discrete or continuous\n",
        "print(f\"Environment action space: {env.action_space}\")\n",
        "\n",
        "# Get num actions\n",
        "num_actions = env.action_space.n\n",
        "print(f\"Number of actions: {num_actions}\")"
      ]
    },
    {
      "cell_type": "markdown",
      "metadata": {
        "id": "tRsflxbDpoPm"
      },
      "source": [
        "### Политика агента (The Agent's Policy) - $\\pi$\n",
        "\n",
        "В RL агент выбирает действия на основе полученных наблюдений. Мы можем представить процесс выбора действия агента как функцию, которая принимает наблюдение в качестве входных данных и возвращает действие в качестве выходных данных. В RL мы обычно называем эту функцию **политикой** агента и обозначаем ее $\\pi(s_t)=a_t$. В RL мы обычно параметризуем нашу политику каким-либо образом, а затем пытаемся узнать оптимальные параметры. Параметризованная политика обычно обозначается $\\pi_\\theta$, где $\\theta$ — это набор параметров.\n",
        "\n",
        "**Упражнение 1:** В качестве упражнения давайте реализуем простую политику, которая принимает набор параметров и наблюдение в качестве входных данных и возвращает действие. Предположим, что наблюдение — это вектор из четырех чисел, как наблюдение CartPole, и что действие должно быть либо $0$, либо $1$. Предположим также, что параметры — это вектор из четырех действительных чисел. Тогда действие должно быть вычислено следующим образом.\n",
        "\n",
        "\n",
        "1. Вычислите [скалярное произведение векторов](https://www.mathsisfun.com/algebra/vectors-dot-product.html) между наблюдением и параметрами.\n",
        "2. Если результат больше нуля, верните действие $1$.\n",
        "3. В противном случае верните действие $0$.\n",
        "\n",
        "В этом упражнении мы постараемся использовать JAX как можно чаще. Поэтому постарайтесь использовать методы JAX для этой задачи. Ниже приведены некоторые полезные методы, которые вы можете использовать. Вам нужно будет завершить код в блоке ниже, заменив `...` правильным кодом.\n",
        "\n",
        "\n",
        "**Полезные методы:**\n",
        "* Вычислите скалярное произведение векторов с помощью `jax.numpy.dot` ([docs](https://jax.readthedocs.io/en/latest/_autosummary/jax.numpy.dot.html)).\n",
        "\n",
        "* Когда вы пытаетесь условно присвоить значение $0$ или $1$ действию на основе результата скалярного произведения, вам следует использовать `jax.lax.select` ([docs](https://jax.readthedocs.io/en/latest/_autosummary/jax.lax.select.html#jax.lax.select)).\n",
        "\n",
        "Метод `jax.lax.select` принимает три аргумента в качестве входных данных. Первый аргумент — это оператор, который будет оцениваться как `True` или `False`.\n",
        "\n",
        "Если оператор равен `True`, то `jax.lax.select` вернет свой второй аргумент.\n",
        "\n",
        "Если оператор имеет значение `False`, `jax.lax.select` вернет свой третий аргумент.\n",
        "\n"
      ]
    },
    {
      "cell_type": "code",
      "execution_count": null,
      "metadata": {
        "id": "KSGCd7XB1z8k"
      },
      "outputs": [],
      "source": [
        "def linear_policy(params, obs):\n",
        "  \"\"\"A simple linear policy\n",
        "\n",
        "  Args:\n",
        "    params: a vector of four real-numbers that give the parameters of the policy\n",
        "    obs: a vector of four real-numbers that give the agent's observation\n",
        "\n",
        "  Returns:\n",
        "    a discrete action given by a 0 or 1\n",
        "  \"\"\"\n",
        "  # YOUR CODE\n",
        "  # dot_product_result = ...\n",
        "  dot_product_result = jax.numpy.dot(params, obs)\n",
        "\n",
        "  action = jax.lax.select(\n",
        "      # ...\n",
        "      dot_product_result > 0, # boolean statement goes here\n",
        "      # ...\n",
        "      1, # result when the statement is True goes here\n",
        "      # ...\n",
        "      0, # result when the statement is False goes here\n",
        "  )\n",
        "  # END YOUR CODE\n",
        "  return action"
      ]
    },
    {
      "cell_type": "code",
      "execution_count": null,
      "metadata": {
        "id": "9EnnBvceb1f3",
        "colab": {
          "base_uri": "https://localhost:8080/"
        },
        "outputId": "d156aa2f-940d-44d3-af61-331d16d52ae2"
      },
      "outputs": [
        {
          "output_type": "stream",
          "name": "stdout",
          "text": [
            "Your function is correct!\n"
          ]
        }
      ],
      "source": [
        "# @title Проверка упр 1  { display-mode: \"form\" }\n",
        "\n",
        "def check_linear_policy(linear_policy):\n",
        "  fixed_obs = jnp.array([1,1,2,4])\n",
        "\n",
        "  # check case1 - negative dot product.\n",
        "  # weights\n",
        "  params1 = jnp.array([1,1,1,1])\n",
        "  params2 = jnp.array([-1,-1,-1,-1])\n",
        "\n",
        "  hint1 = f\"Неправильный ответ, ваша линейная политика неверна. Действие при \\\n",
        "obs={fixed_obs} и params={params1} должно быть 1\"\n",
        "\n",
        "  hint2 = f\"Неправильный ответ, ваша линейная политика неверна. Действие при \\\n",
        "obs={fixed_obs} и params={params2} должно быть 0\"\n",
        "\n",
        "  hint = None\n",
        "  if linear_policy(params1, fixed_obs) != 1:\n",
        "    hint = hint1\n",
        "  elif linear_policy(params2, fixed_obs) != 0:\n",
        "    hint = hint2\n",
        "\n",
        "  if hint is not None:\n",
        "    print(hint)\n",
        "  else:\n",
        "    print(\"Your function is correct!\")\n",
        "\n",
        "try:\n",
        "  check_linear_policy(linear_policy)\n",
        "except Exception as e:\n",
        "    print(\"An Error Occured: {}\".format(e))"
      ]
    },
    {
      "cell_type": "markdown",
      "metadata": {
        "id": "PkuvT-jf6Ieh"
      },
      "source": [
        "### Функция перехода среды - $P$\n",
        "\n",
        "Теперь, когда у нас есть политика, мы можем передавать действия от агента среде. Затем среда перейдет в новое состояние в ответ на действие агента.\n",
        "\n",
        "В RL мы моделируем этот процесс с помощью **функции перехода состояния** $P$, которая принимает текущее состояние $s_t$ и действие $a_t$ в качестве входных данных и возвращает следующее состояние $s_{t+1}$ в качестве выходных данных:\n",
        "\n",
        "<center>\n",
        "$s_{t+1}=P(s_t, a_t)$\n",
        "</center>\n",
        "\n",
        "В gym мы можем передавать действия среде, вызывая функцию `env.step(<action>)`. Затем функция вернет четыре значения:\n",
        "- **следующее наблюдение**\n",
        "- **награду** за выполненное действие\n",
        "- логический флаг, указывающий, **завершена** игра\n",
        "- некоторую **дополнительную** информацию."
      ]
    },
    {
      "cell_type": "code",
      "execution_count": null,
      "metadata": {
        "id": "hh0j9-Tk7olb",
        "colab": {
          "base_uri": "https://localhost:8080/"
        },
        "outputId": "ca7cb3da-55f5-47c7-c703-020c0b5d996a"
      },
      "outputs": [
        {
          "output_type": "stream",
          "name": "stdout",
          "text": [
            "Observation: [-0.00028234 -0.03487345  0.01658766  0.03007884]\n",
            "Action: 1\n",
            "Next observation: [-0.00097981  0.16000675  0.01718924 -0.2573247 ]\n",
            "Reward: 1.0\n",
            "Game is done: False\n"
          ]
        }
      ],
      "source": [
        "# Get the initial obs by resetting the env\n",
        "initial_obs = env.reset()\n",
        "\n",
        "# Randomly sample actions from env\n",
        "action = env.action_space.sample()\n",
        "\n",
        "# Step the environment\n",
        "next_obs, reward, done, info = env.step(action)\n",
        "\n",
        "print(\"Observation:\", initial_obs)\n",
        "print(\"Action:\", action)\n",
        "print(\"Next observation:\", next_obs)\n",
        "print(\"Reward:\", reward)\n",
        "print(\"Game is done:\", done)"
      ]
    },
    {
      "cell_type": "markdown",
      "metadata": {
        "id": "bX9iZtu48UYn"
      },
      "source": [
        "### Возврат эпизода - $R_t$\n",
        "\n",
        "В RL мы обычно разбиваем взаимодействие агента с окружающей средой на **эпизоды**. Сумма всех вознаграждений, собранных во время эпизода, - это то, что мы называем **возвратом** эпизода - $R_t$:\n",
        "\n",
        "<center>\n",
        "$R_t=\\sum_{t=0}^Tr_t$,\n",
        "</center>\n",
        "\n",
        "где $r_t$ - это вознаграждение в момент времени $t$, а $T$ - это последний временной шаг. Цель в RL - выбрать действия, которые максимизируют этот ожидаемый будущий возврат $R_t$."
      ]
    },
    {
      "cell_type": "markdown",
      "metadata": {
        "id": "y6KZA1Nq9p47"
      },
      "source": [
        "### Цикл агент-среда\n",
        "Теперь, когда мы знаем, что такое политика, и знаем, как пошагово проходить среду, давайте закроем цикл агент-среда.\n",
        "\n",
        "**Упражнение 2:** Напишите функцию, которая запускает один эпизод CartPole, последовательно выбирая действия и пошагово проходя среду. Вам следует использовать линейную политику, которую мы определили ранее, для выбора действий. Функция должна отслеживать полученное вознаграждение и выводить возврат в конце эпизода.\n",
        "\n",
        "В CartPole агент получает вознаграждение `1` за каждый временной шаг, когда шест все еще стоит вертикально. Если шест падает, игра заканчивается, и агент больше не получает вознаграждения. Игра также заканчивается после `200` временных шагов, поэтому максимальное вознаграждение, которое может получить агент, составляет `200`."
      ]
    },
    {
      "cell_type": "code",
      "execution_count": null,
      "metadata": {
        "id": "Buy0X7mi-gHP"
      },
      "outputs": [],
      "source": [
        "def run_episode(env):\n",
        "  episode_return = 0 # counter to keep track of rewards\n",
        "  done = False # initially set to False\n",
        "  params = jnp.array([1,-2,2,-1]) # fixed policy parameters\n",
        "\n",
        "  ## YOUR CODE\n",
        "\n",
        "  # obs = ...\n",
        "  obs = env.reset() # TODO: get the initial obs from the env\n",
        "\n",
        "  while not done: # loop until episode is done\n",
        "\n",
        "    # action = ...\n",
        "    action = linear_policy(params, obs) # TODO: compute action using linear policy\n",
        "    action = np.array(action) # We need to the convert the action from the policy to a np.array\n",
        "\n",
        "    # obs, reward, done, info = ...\n",
        "    obs, reward, done, info = env.step(action) # TODO: step the environment\n",
        "\n",
        "    # episode_return = ...\n",
        "    episode_return += reward # TODO: add reward to episode return\n",
        "\n",
        "  return episode_return"
      ]
    },
    {
      "cell_type": "code",
      "execution_count": null,
      "metadata": {
        "id": "bA2Orj9PVbKO",
        "colab": {
          "base_uri": "https://localhost:8080/"
        },
        "outputId": "c26005ea-8f36-437f-a892-1d38eadf1b10"
      },
      "outputs": [
        {
          "output_type": "stream",
          "name": "stdout",
          "text": [
            "Looks correct!\n"
          ]
        }
      ],
      "source": [
        "# @title Проверка упр 2 (run me) { display-mode: \"form\" }\n",
        "\n",
        "try:\n",
        "  env.seed(42)\n",
        "  if run_episode(env) == 31:\n",
        "    print(\"Looks correct!\")\n",
        "  else:\n",
        "    print(\"Looks like your implementation might be wrong.\")\n",
        "except Exception as e:\n",
        "    print(\"An Error Occured: {}\".format(e))"
      ]
    },
    {
      "cell_type": "markdown",
      "metadata": {
        "id": "fUGdzHxJnZGl"
      },
      "source": [
        "В CartPole среда считается решенной, когда агент может надежно достичь возврата эпизода 500. Как вы можете видеть, наша текущая политика далека от оптимальной.\n",
        "\n",
        "Один из способов найти оптимальную политику — это случайным образом пробовать разные политики, пока не найдем оптимальную. Эта стратегия называется случайным поиском политики и может быть на удивление эффективной.\n",
        "\n",
        "Прежде чем мы реализуем случайный поиск политики, давайте быстро рассмотрим общий цикл обучения RL, который мы будем использовать для реализации алгоритмов в оставшейся части этого руководства.\n",
        "\n",
        "### Цикл обучения RL общего назначения\n",
        "Мы реализовали для вас цикл обучения RL общего назначения. Цикл обучения принимает несколько аргументов в качестве входных данных, но три наиболее важных для понимания — это `agent_select_action_func`, `agent_learn_func` и `agent_memory`.\n",
        "\n",
        "* `agent_select_action_func` — это функция, которую мы определяем и можем передать в цикл обучения. Функция принимает наблюдение и набор `agent_params` в качестве входных данных и должна возвращать действие.\n",
        "* `agent_learn_func` — это еще один метод, который мы определяем и передаем в цикл обучения. Он должен принимать параметры агента и некоторые «воспоминания» в качестве входных данных, а затем обновлять и возвращать агентам новые параметры.\n",
        "* `agent_memory` — это модуль общего назначения, который мы определяем, который может хранить некоторую релевантную информацию об опыте агента в среде, которую можно использовать в `agent_learn_func`.\n",
        "\n",
        "Ниже приведена функция цикла обучения, которую мы реализовали для вас. Вы можете просмотреть код и попытаться понять его, но это не обязательно. Таким образом, мы скрыли код по умолчанию, просто убедитесь, что вы запустили ячейку кода, прежде чем двигаться дальше, потому что цикл обучения далее в коде."
      ]
    },
    {
      "cell_type": "code",
      "execution_count": null,
      "metadata": {
        "id": "ZWBwz3zMRjM0"
      },
      "outputs": [],
      "source": [
        "#@title Training loop (run me) { display-mode: \"form\" }\n",
        "\n",
        "# NamedTuple to store transitions\n",
        "Transition = collections.namedtuple(\"Transition\", [\"obs\", \"action\", \"reward\", \"next_obs\", \"done\"])\n",
        "\n",
        "# Training Loop\n",
        "def run_training_loop(env_name, agent_params, agent_select_action_func,\n",
        "    agent_actor_state=None, agent_learn_func=None, agent_learner_state=None,\n",
        "    agent_memory=None, num_episodes=1000, evaluator_period=100,\n",
        "    evaluation_episodes=8, learn_steps_per_episode=1,\n",
        "    train_every_timestep=False, video_subdir=\"\",):\n",
        "    \"\"\"\n",
        "    This function runs several episodes in an environment and periodically does\n",
        "    some agent learning and evaluation.\n",
        "\n",
        "    Args:\n",
        "        env: a gym environment.\n",
        "        agent_params: an object to store parameters that the agent uses.\n",
        "        agent_select_func: a function that does action selection for the agent.\n",
        "        agent_actor_state (optional): an object that stores the internal state\n",
        "            of the agents action selection function.\n",
        "        agent_learn_func (optional): a function that does some learning for the\n",
        "            agent by updating the agent parameters.\n",
        "        agent_learn_state (optional): an object that stores the internal state\n",
        "            of the agent learn function.\n",
        "        agent_memory (optional): an object for storing an retrieving historical\n",
        "            experience.\n",
        "        num_episodes: how many episodes to run.\n",
        "        evaluator_period: how often to run evaluation.\n",
        "        evaluation_episodes: how many evaluation episodes to run.\n",
        "        train_every_timestep: whether to train every timestep rather than at the end\n",
        "            of the episode.\n",
        "        video_subdir: subdirectory to store epsiode recordings.\n",
        "\n",
        "    Returns:\n",
        "        episode_returns: list of all the episode returns.\n",
        "        evaluator_episode_returns: list of all the evaluator episode returns.\n",
        "    \"\"\"\n",
        "\n",
        "    # Setup Cartpole environment and recorder\n",
        "    env = gym.make(env_name, render_mode=\"rgb_array\") # training environment\n",
        "    eval_env = gym.make(env_name, render_mode=\"rgb_array\") # evaluation environment\n",
        "\n",
        "    # Video dir\n",
        "    video_dir = \"./video\"+\"/\"+video_subdir\n",
        "\n",
        "    # Clear video dir\n",
        "    try:\n",
        "      rmtree(video_dir)\n",
        "    except:\n",
        "      pass\n",
        "\n",
        "    # Wrap in recorder\n",
        "    env = RecordVideo(env, video_dir+\"/train\", episode_trigger=lambda x: (x % evaluator_period) == 0)\n",
        "    eval_env = RecordVideo(eval_env, video_dir+\"/eval\", episode_trigger=lambda x: (x % evaluation_episodes) == 0)\n",
        "\n",
        "    # JAX random number generator\n",
        "    rng = hk.PRNGSequence(jax.random.PRNGKey(0))\n",
        "    env.seed(0) # seed environment for reproducability\n",
        "    random.seed(0)\n",
        "\n",
        "    episode_returns = [] # List to store history of episode returns.\n",
        "    evaluator_episode_returns = [] # List to store history of evaluator returns.\n",
        "    timesteps = 0\n",
        "    for episode in range(num_episodes):\n",
        "\n",
        "        # Reset environment.\n",
        "        obs = env.reset()\n",
        "        episode_return = 0\n",
        "        done = False\n",
        "\n",
        "        while not done:\n",
        "\n",
        "            # Agent select action.\n",
        "            action, agent_actor_state = agent_select_action_func(\n",
        "                                            next(rng),\n",
        "                                            agent_params,\n",
        "                                            agent_actor_state,\n",
        "                                            np.array(obs)\n",
        "                                        )\n",
        "\n",
        "            # Step environment.\n",
        "            next_obs, reward, done, _ = env.step(int(action))\n",
        "\n",
        "            # Pack into transition.\n",
        "            transition = Transition(obs, action, reward, next_obs, done)\n",
        "\n",
        "            # Add transition to memory.\n",
        "            if agent_memory: # check if agent has memory\n",
        "              agent_memory.push(transition)\n",
        "\n",
        "            # Add reward to episode return.\n",
        "            episode_return += reward\n",
        "\n",
        "            # Set obs to next obs before next environment step. CRITICAL!!!\n",
        "            obs = next_obs\n",
        "\n",
        "            # Increment timestep counter\n",
        "            timesteps += 1\n",
        "\n",
        "            # Maybe learn every timestep\n",
        "            if train_every_timestep and (timesteps % 4 == 0) and agent_memory and agent_memory.is_ready(): # Make sure memory is ready\n",
        "                # First sample memory and then pass the result to the learn function\n",
        "                memory = agent_memory.sample()\n",
        "                agent_params, agent_learner_state = agent_learn_func(\n",
        "                                                        next(rng),\n",
        "                                                        agent_params,\n",
        "                                                        agent_learner_state,\n",
        "                                                        memory\n",
        "                                                    )\n",
        "\n",
        "        episode_returns.append(episode_return)\n",
        "\n",
        "        # At the end of every episode we do a learn step.\n",
        "        if agent_memory and agent_memory.is_ready(): # Make sure memory is ready\n",
        "\n",
        "            for _ in range(learn_steps_per_episode):\n",
        "                # First sample memory and then pass the result to the learn function\n",
        "                memory = agent_memory.sample()\n",
        "                agent_params, agent_learner_state = agent_learn_func(\n",
        "                                                        next(rng),\n",
        "                                                        agent_params,\n",
        "                                                        agent_learner_state,\n",
        "                                                        memory\n",
        "                                                    )\n",
        "\n",
        "        if (episode % evaluator_period) == 0: # Do evaluation\n",
        "\n",
        "            evaluator_episode_return = 0\n",
        "            for eval_episode in range(evaluation_episodes):\n",
        "                obs = eval_env.reset()\n",
        "                done = False\n",
        "                while not done:\n",
        "                    action, _ = agent_select_action_func(\n",
        "                                    next(rng),\n",
        "                                    agent_params,\n",
        "                                    agent_actor_state,\n",
        "                                    np.array(obs),\n",
        "                                    evaluation=True\n",
        "                                )\n",
        "\n",
        "                    obs, reward, done, _ = eval_env.step(int(action))\n",
        "\n",
        "                    evaluator_episode_return += reward\n",
        "\n",
        "            evaluator_episode_return /= evaluation_episodes\n",
        "\n",
        "            evaluator_episode_returns.append(evaluator_episode_return)\n",
        "\n",
        "            logs = [\n",
        "                    f\"Episode: {episode}\",\n",
        "                    f\"Episode Return: {episode_return}\",\n",
        "                    f\"Average Episode Return: {np.mean(episode_returns[-20:])}\",\n",
        "                    f\"Evaluator Episode Return: {evaluator_episode_return}\"\n",
        "            ]\n",
        "\n",
        "            print(*logs, sep=\"\\t\") # Print the logs\n",
        "\n",
        "    env.close()\n",
        "    eval_env.close()\n",
        "\n",
        "    return episode_returns, evaluator_episode_returns"
      ]
    },
    {
      "cell_type": "markdown",
      "metadata": {
        "id": "CTPlIq4oDBPY"
      },
      "source": [
        "##2. Случайный поиск политики (RPS)\n",
        "В разделе 1 мы использовали фиксированный набор параметров для нашей политики. То есть мы не изучали параметры $\\pi$ $\\theta$, мы просто сохранили их фиксированными ( `params = [1,-2,2,-1]`).\n",
        "\n",
        "Теперь мы реализуем случайный поиск политики (RPS), который представляет собой алгоритм, который случайным образом пробует различные параметры политики и отслеживает лучшие параметры, найденные на данный момент. Мы скажем, что параметры политики $\\theta_A$ лучше параметров $\\theta_B$, если средний возврат эпизода, достигнутый за последние 20 эпизодов политикой с параметрами $\\theta_A$, больше, чем у политики с параметрами $\\theta_B$.\n",
        "\n",
        "Чтобы отслеживать «текущие» параметры, а также «лучшие» параметры, мы будем использовать [NamedTuple](https://www.geeksforgeeks.org/namedtuple-in-python/)."
      ]
    },
    {
      "cell_type": "code",
      "execution_count": null,
      "metadata": {
        "id": "1DcaC-PQRjM1",
        "colab": {
          "base_uri": "https://localhost:8080/"
        },
        "outputId": "8e09dc91-9c15-47bf-a619-e0314aebebf3"
      },
      "outputs": [
        {
          "output_type": "stream",
          "name": "stdout",
          "text": [
            "Best params: [0. 0. 0. 0.]\n",
            "Current params: [-1. -1. -1. -1.]\n"
          ]
        }
      ],
      "source": [
        "# Parameter container for Random Policy Search\n",
        "RandomPolicySearchParams = collections.namedtuple(\"RandomPolicySearchParams\", [\"current\", \"best\"])\n",
        "\n",
        "# TEST: store two different sets of parameters\n",
        "current_params = np.ones(obs_shape) * -1\n",
        "best_params = np.zeros(obs_shape)\n",
        "rps_params = RandomPolicySearchParams(current_params, best_params)\n",
        "\n",
        "# How to access the best or current params.\n",
        "print(f\"Best params: {rps_params.best}\")\n",
        "print(f\"Current params: {rps_params.current}\")"
      ]
    },
    {
      "cell_type": "markdown",
      "metadata": {
        "id": "v91pDDzGex9a"
      },
      "source": [
        "Далее мы реализуем следующее:\n",
        "- **Функция выбора действия RPS** - определяет, как мы выбираем действия с учетом набора параметров.\n",
        "- **Модуль памяти RPS** - определяет, какой опыт хранить из взаимодействий со средой.\n",
        "- **Функция обучения RPS** - определяет, как мы обновляем и улучшаем параметры нашей политики."
      ]
    },
    {
      "cell_type": "markdown",
      "metadata": {
        "id": "0tExceGeGNYH"
      },
      "source": [
        "### Функция выбора действия RPS\n",
        "Давайте реализуем функцию с именем `random_policy_search_choose_action`, которую мы можем передать в цикл обучения. Функция должна принимать несколько аргументов, чтобы она могла хорошо взаимодействовать с нашим обобщенным циклом обучения, но вам нужно будет использовать только три из них - `params`, `obs` и `evaluation`.\n",
        "\n",
        "- `params` - это экземпляр `RandomPolicySearchParams` с \"current\" и \"best\".\n",
        "- `obs` - это последнее наблюдение из среды.\n",
        "- `evaluation` - это логическое значение, которое указывает, следует ли нам использовать параметры \"current\" или \"best\". Когда `evaluation==True`, мы должны использовать параметры \"best\", в противном случае мы должны использовать параметры \"current\".\n",
        "\n",
        "**Упражнение 3:** Реализуйте функцию `random_policy_search_choose_action`, как описано выше. Вам следует использовать метод `linear_policy`, который мы определили ранее. Вам также понадобится `jax.lax.select()` для условного возврата \"лучшего\" действия или \"текущего\" действия."
      ]
    },
    {
      "cell_type": "code",
      "execution_count": null,
      "metadata": {
        "id": "1kmwT35JRjM1"
      },
      "outputs": [],
      "source": [
        "def random_policy_search_choose_action(\n",
        "    key,\n",
        "    params,\n",
        "    actor_state,\n",
        "    obs,\n",
        "    evaluation=False\n",
        "):\n",
        "  \"\"\"Random policy search select action method.\n",
        "\n",
        "  Args:\n",
        "    key: a random number (seed). Not used in this function.\n",
        "    params: the agent's parameters. In this case an instance of `RandomPolicySearchParams`\n",
        "    actor_state: some extra information about the actor. Not used in this function.\n",
        "    obs: the latest observation.\n",
        "    evaluation: a boolean indicating whether to use the best \"parameters\" or the \"current\" ones.\n",
        "\n",
        "  Returns:\n",
        "    The chosen action and the updated actor_state. In this function the actor_state is not updated.\n",
        "  \"\"\"\n",
        "\n",
        "  # YOUR CODE\n",
        "\n",
        "  # best_action = ...\n",
        "  best_action = linear_policy(params=params.best, obs=obs)\n",
        "\n",
        "  # current_action = ...\n",
        "  current_action = linear_policy(params=params.current, obs=obs)\n",
        "\n",
        "  action = jax.lax.select(\n",
        "      # ...\n",
        "      evaluation ,\n",
        "      # ...\n",
        "      best_action ,\n",
        "      # ...\n",
        "      current_action\n",
        "  )\n",
        "\n",
        "  # END YOUR CODE\n",
        "\n",
        "  return action, actor_state"
      ]
    },
    {
      "cell_type": "code",
      "execution_count": null,
      "metadata": {
        "id": "YE4xoAgyI3kG",
        "colab": {
          "base_uri": "https://localhost:8080/"
        },
        "outputId": "f012ff27-5c80-44ab-88e7-f75a094d7863"
      },
      "outputs": [
        {
          "output_type": "stream",
          "name": "stdout",
          "text": [
            "Your function looks correct.\n"
          ]
        }
      ],
      "source": [
        "# @title Проверка упр 3 (run me) {display-mode: \"form\"}\n",
        "\n",
        "def check_random_policy_search_choose_action(choose_action):\n",
        "  key = None # not used\n",
        "  actor_state = None # not used\n",
        "\n",
        "  # obs\n",
        "  obs = np.ones(obs_shape)\n",
        "\n",
        "  evaluation=False\n",
        "  current_params = np.ones(obs_shape) * -1\n",
        "  best_params = np.ones(obs_shape)\n",
        "  rps_params = RandomPolicySearchParams(current_params, best_params)\n",
        "  action, actor_state = choose_action(key,rps_params,actor_state,obs,evaluation)\n",
        "  if action != 0:\n",
        "    return False\n",
        "\n",
        "  evaluation=True\n",
        "  current_params = np.ones(obs_shape) * -1\n",
        "  best_params = np.ones(obs_shape)\n",
        "  rps_params = RandomPolicySearchParams(current_params, best_params)\n",
        "  action, actor_state = choose_action(key,rps_params,actor_state,obs,evaluation)\n",
        "  if action != 1:\n",
        "    return False\n",
        "\n",
        "  return True\n",
        "\n",
        "try:\n",
        "  if check_random_policy_search_choose_action(random_policy_search_choose_action):\n",
        "    print(\"Your function looks correct.\")\n",
        "  else:\n",
        "    print(\"Your function looks incorrect.\")\n",
        "except Exception as e:\n",
        "    print(\"An Error Occured: {}\".format(e))"
      ]
    },
    {
      "cell_type": "markdown",
      "metadata": {
        "id": "6zu51ep7Sh0M"
      },
      "source": [
        "### Память агента RPS\n",
        "\n",
        "Для алгоритма поиска случайной политики нам нужно будет отслеживать средний возврат эпизода для последних 50 эпизодов. Помните, что мы сказали, что «текущие» параметры будут считаться «лучшими» параметрами, если средний возврат эпизода при использовании этих параметров больше предыдущего лучшего среднего возврата эпизода.\n",
        "\n",
        "Мы будем использовать интерфейс памяти общего назначения, который довольно прост. Модуль памяти должен иметь три метода. Первый — это функция `memory.push(<transition>)`, которая добавляет некоторую информацию о последнем переходе среды в память. Второй — это функция `memory.is_ready()`, которая проверяет, готова ли память к обучению. Наконец, функция `memory.sample()` должна возвращать последний набор воспоминаний, которые можно передать в `agent_learn_func`.\n",
        "\n",
        "#### Память среднего возврата эпизода\n",
        "Мы создали для вас простой модуль памяти агента. Он хранит `epsisode_returns` последних 20 эпизодов. Прочитайте нашу реализацию ниже и посмотрите, сможете ли вы ее понять. Метод `memory.sample()` возвращает средний возврат эпизода за последние 20 эпизодов."
      ]
    },
    {
      "cell_type": "code",
      "execution_count": null,
      "metadata": {
        "id": "YVkTBIK5RjM1"
      },
      "outputs": [],
      "source": [
        "class AverageEpisodeReturnBuffer:\n",
        "\n",
        "    def __init__(self, num_episodes_to_store=50):\n",
        "        \"\"\"\n",
        "        This class implements an agent memory that stores the average episode\n",
        "        return over the last 50 episodes.\n",
        "        \"\"\"\n",
        "        self.num_episodes_to_store = num_episodes_to_store\n",
        "        self.episode_return_buffer = []\n",
        "        self.current_episode_return = 0\n",
        "\n",
        "    def push(self, transition):\n",
        "        self.current_episode_return += transition.reward\n",
        "\n",
        "        if transition.done: # If the episode is done\n",
        "            # Add episode return to buffer\n",
        "            self.episode_return_buffer.append(self.current_episode_return)\n",
        "\n",
        "            # Reset episode return\n",
        "            self.current_episode_return = 0\n",
        "\n",
        "\n",
        "    def is_ready(self):\n",
        "        return len(self.episode_return_buffer) == self.num_episodes_to_store\n",
        "\n",
        "    def sample(self):\n",
        "        average_episode_return = np.mean(self.episode_return_buffer)\n",
        "\n",
        "        # Clear episode return buffer\n",
        "        self.episode_return_buffer = []\n",
        "\n",
        "        return average_episode_return"
      ]
    },
    {
      "cell_type": "markdown",
      "metadata": {
        "id": "0oXBsSa2KjWE"
      },
      "source": [
        "### Функция обучения RPS\n",
        "Наконец, нам нужно реализовать функцию `random_policy_search_learn` для нашего алгоритма поиска случайной политики. Функция обучения довольно проста. Все, что нам нужно сделать, это проверить, лучше ли текущие параметры, чем лучшие параметры. Если они лучше, то установите лучшие параметры в качестве текущих параметров и случайным образом сгенерируйте новый набор текущих параметров.\n",
        "\n",
        "**Упражнение 4:** Напишите функцию для случайной генерации новых весов с использованием JAX. Веса должны быть выбраны из интервала `[-2,2]`.\n",
        "\n",
        "**Полезные функции:**\n",
        "*   `jax.random.uniform` ([docs](https://jax.readthedocs.io/en/latest/_autosummary/jax.random.uniform.html#jax.random.uniform))\n",
        "\n"
      ]
    },
    {
      "cell_type": "code",
      "execution_count": null,
      "metadata": {
        "id": "8V2yFM2XMjGW"
      },
      "outputs": [],
      "source": [
        "def get_new_random_weights(random_key, old_weights, minval=-2.0, maxval=2.0):\n",
        "    new_weights_shape = old_weights.shape # you will need to use these values\n",
        "    new_weights_dtype = old_weights.dtype # you will need to use these values\n",
        "\n",
        "    # YOUR CODE\n",
        "\n",
        "    # new_params = ...\n",
        "    new_params = jax.random.uniform(dtype=new_weights_dtype, shape=new_weights_shape, minval=minval, maxval=maxval, key=random_key)\n",
        "\n",
        "    # END YOUR CODE\n",
        "\n",
        "    return new_params"
      ]
    },
    {
      "cell_type": "code",
      "execution_count": null,
      "metadata": {
        "id": "T8ifHTKGQlAd",
        "colab": {
          "base_uri": "https://localhost:8080/"
        },
        "outputId": "44af4959-26d2-469a-a905-61a0b1a48cf0"
      },
      "outputs": [
        {
          "output_type": "stream",
          "name": "stdout",
          "text": [
            "Function is correct!\n"
          ]
        }
      ],
      "source": [
        "# @title Проверка упр 4 (run me) {display-mode: \"form\"}\n",
        "\n",
        "def check_get_new_random_weights(get_new_random_weights):\n",
        "  old_weights = np.ones(obs_shape, \"float32\")\n",
        "  random_key = jax.random.PRNGKey(42)\n",
        "\n",
        "  # Case 1\n",
        "  new_weights = get_new_random_weights(random_key, old_weights, minval=-2.0, maxval=2.0)\n",
        "\n",
        "  if jnp.array_equal(new_weights, jnp.array([ 0.29657745,1.4265499, -1.7621555, -1.7505779 ])):\n",
        "    print(\"Function is correct!\")\n",
        "  else:\n",
        "    print(\"Something is wrong.\")\n",
        "\n",
        "try:\n",
        "  check_get_new_random_weights(get_new_random_weights)\n",
        "except Exception as e:\n",
        "    print(\"An Error Occured: {}\".format(e))"
      ]
    },
    {
      "cell_type": "markdown",
      "metadata": {
        "id": "2Djxc9j-LzkM"
      },
      "source": [
        "Наша функция обучения получает память в форме среднего возврата эпизода из `AverageEpisodeReturnMemory`, которую мы реализовали ранее. Мы можем использовать это для сравнения текущих параметров с лучшими параметрами. Но нам также нужно будет отслеживать лучший средний возврат эпизода для функции обучения. Для этого мы можем использовать аргумент `learn_state`, который передается в `agent_learn_func` в нашем цикле обучения. Как и в случае с `RandomPolicySearchParams`, мы будем использовать NamedTuple для хранения `best_average_episode_return` в `learn_state`."
      ]
    },
    {
      "cell_type": "code",
      "execution_count": null,
      "metadata": {
        "id": "4cSH4uYmRjM2",
        "colab": {
          "base_uri": "https://localhost:8080/"
        },
        "outputId": "5db7d747-95c9-4fd2-8a07-29e05f808a0e"
      },
      "outputs": [
        {
          "output_type": "stream",
          "name": "stdout",
          "text": [
            "Initial best average episode return: -inf\n"
          ]
        }
      ],
      "source": [
        "# A NamedTuple to store the best average episode return so far\n",
        "RandomPolicyLearnState = collections.namedtuple(\n",
        "  \"RandomPolicyLearnState\",\n",
        "  [\"best_average_episode_return\"]\n",
        ")\n",
        "\n",
        "# Test\n",
        "initial_learn_state = RandomPolicyLearnState(best_average_episode_return=-float(\"inf\"))\n",
        "print(\"Initial best average episode return:\", initial_learn_state.best_average_episode_return)"
      ]
    },
    {
      "cell_type": "markdown",
      "metadata": {
        "id": "PxZXdP8bOu6b"
      },
      "source": [
        "Теперь у нас есть все необходимое для реализации функции `random_policy_search_learn`.\n",
        "\n",
        "**Упражнение 5:** Реализуйте функцию `random_policy_search_learn`. Функция должна проверять, лучше ли «текущие» параметры, чем «лучшие» параметры, сравнивая `current_average_episode_return` с `best_average_episode_return`. Функция также должна обновлять `learn_state`."
      ]
    },
    {
      "cell_type": "code",
      "execution_count": null,
      "metadata": {
        "id": "Te_Q3qzmZcN_"
      },
      "outputs": [],
      "source": [
        "def random_policy_search_learn(key, params, learn_state, memory):\n",
        "    best_params = params.best\n",
        "    current_params = params.current\n",
        "\n",
        "    current_average_episode_return = memory # the memory contains the average episode return\n",
        "    best_average_episode_return = learn_state.best_average_episode_return\n",
        "\n",
        "\n",
        "    # YOUR CODE\n",
        "\n",
        "    best_params = jax.lax.select(\n",
        "        # ... ,\n",
        "        best_params > current_params,\n",
        "        # ... ,\n",
        "        best_params ,\n",
        "        # ...\n",
        "        current_params\n",
        "    )\n",
        "\n",
        "    best_average_episode_return = jax.lax.select(\n",
        "        # ... ,\n",
        "        best_average_episode_return > current_average_episode_return ,\n",
        "        # ... ,\n",
        "        best_average_episode_return ,\n",
        "        # ...\n",
        "        current_average_episode_return\n",
        "    )\n",
        "\n",
        "    # END YOUR CODE\n",
        "\n",
        "    # Generate new random parameters\n",
        "    new_params = get_new_random_weights(key, current_params)\n",
        "\n",
        "    # Bundle weights in RandomPolicySearchParams NamedTuple\n",
        "    params = RandomPolicySearchParams(current=new_params, best=best_params)\n",
        "\n",
        "    return params, RandomPolicyLearnState(best_average_episode_return)"
      ]
    },
    {
      "cell_type": "code",
      "execution_count": null,
      "metadata": {
        "id": "CXHV4k2iBLBF",
        "colab": {
          "base_uri": "https://localhost:8080/"
        },
        "outputId": "489c1d55-4b91-4ea7-f49b-942af51224e4"
      },
      "outputs": [
        {
          "output_type": "stream",
          "name": "stdout",
          "text": [
            "Your function looks correct.\n"
          ]
        }
      ],
      "source": [
        "#@title Проверка упр 5 {display-mode: \"form\"}\n",
        "\n",
        "params = RandomPolicySearchParams(np.ones(obs_shape, \"float32\"), np.ones(obs_shape, \"float32\") * -1)\n",
        "learn_state = RandomPolicyLearnState(10)\n",
        "memory = 11\n",
        "key = jax.random.PRNGKey(42)\n",
        "\n",
        "try:\n",
        "  new_params, new_learn_state = random_policy_search_learn(key, params, learn_state, memory)\n",
        "\n",
        "  if not jnp.array_equal(new_params.current, jnp.array([ 0.29657745,  1.4265499 , -1.7621555 , -1.7505779 ])):\n",
        "    print(\"Your function is incorrect.\")\n",
        "\n",
        "  elif not jnp.array_equal(new_params.best, jnp.array([1., 1., 1., 1.])):\n",
        "    print(\"Your function is incorrect.\")\n",
        "\n",
        "  elif new_learn_state.best_average_episode_return != 11:\n",
        "    print(\"Your function is incorrect.\")\n",
        "\n",
        "  else:\n",
        "    print(\"Your function looks correct.\")\n",
        "except Exception as e:\n",
        "    print(\"An Error Occured: {}\".format(e))"
      ]
    },
    {
      "cell_type": "markdown",
      "metadata": {
        "id": "5Ol_AxnMBdgP"
      },
      "source": [
        "### Цикл обучения RPS\n",
        "Теперь мы можем собрать все вместе, передав модуль `memory`, функцию `learn` и функцию `choose_action` в цикл обучения. Чтобы ускорить наш алгоритм, мы будем использовать `jax.jit` в функции `learn` и функции `choose_action`."
      ]
    },
    {
      "cell_type": "code",
      "execution_count": null,
      "metadata": {
        "id": "Qx57tf7vRjM3",
        "colab": {
          "base_uri": "https://localhost:8080/",
          "height": 680
        },
        "outputId": "e610038a-5a35-479a-fb40-66b9764db0c3"
      },
      "outputs": [
        {
          "output_type": "stream",
          "name": "stdout",
          "text": [
            "Starting training. This may take up to 5 minutes to complete.\n",
            "Episode: 0\tEpisode Return: 80.0\tAverage Episode Return: 80.0\tEvaluator Episode Return: 138.25\n",
            "Episode: 100\tEpisode Return: 11.0\tAverage Episode Return: 70.45\tEvaluator Episode Return: 176.875\n",
            "Episode: 200\tEpisode Return: 10.0\tAverage Episode Return: 9.25\tEvaluator Episode Return: 125.75\n",
            "Episode: 300\tEpisode Return: 9.0\tAverage Episode Return: 9.35\tEvaluator Episode Return: 122.375\n",
            "Episode: 400\tEpisode Return: 120.0\tAverage Episode Return: 112.75\tEvaluator Episode Return: 122.5\n",
            "Episode: 500\tEpisode Return: 8.0\tAverage Episode Return: 73.45\tEvaluator Episode Return: 123.75\n",
            "Episode: 600\tEpisode Return: 10.0\tAverage Episode Return: 109.5\tEvaluator Episode Return: 184.5\n",
            "Episode: 700\tEpisode Return: 15.0\tAverage Episode Return: 28.7\tEvaluator Episode Return: 172.0\n",
            "Episode: 800\tEpisode Return: 9.0\tAverage Episode Return: 71.65\tEvaluator Episode Return: 166.375\n",
            "Episode: 900\tEpisode Return: 9.0\tAverage Episode Return: 9.8\tEvaluator Episode Return: 167.125\n",
            "Episode: 1000\tEpisode Return: 50.0\tAverage Episode Return: 74.75\tEvaluator Episode Return: 176.375\n"
          ]
        },
        {
          "output_type": "display_data",
          "data": {
            "text/plain": [
              "<Figure size 640x480 with 1 Axes>"
            ],
            "image/png": "[encoded data removed]"
          },
          "metadata": {}
        }
      ],
      "source": [
        "# JIT the learn and choose action functions\n",
        "random_policy_search_learn_jit = jax.jit(random_policy_search_learn)\n",
        "random_policy_search_choose_action_jit = jax.jit(random_policy_search_choose_action)\n",
        "\n",
        "# Initialise the parameters\n",
        "initial_weights = np.ones(obs_shape, \"float32\")\n",
        "initial_params = RandomPolicySearchParams(initial_weights, initial_weights)\n",
        "\n",
        "# Initialise the learn state\n",
        "initial_learn_state = RandomPolicyLearnState(best_average_episode_return=-float(\"inf\"))\n",
        "\n",
        "# Initialise memory\n",
        "memory = AverageEpisodeReturnBuffer(num_episodes_to_store=50)\n",
        "\n",
        "# Run the training loop\n",
        "print(\"Starting training. This may take up to 5 minutes to complete.\")\n",
        "chex.clear_trace_counter()\n",
        "episode_return, evaluator_episode_returns = run_training_loop(\n",
        "                                        env_name,\n",
        "                                        initial_params,\n",
        "                                        random_policy_search_choose_action_jit,\n",
        "                                        None, # no actor state\n",
        "                                        random_policy_search_learn_jit,\n",
        "                                        initial_learn_state,\n",
        "                                        memory,\n",
        "                                        num_episodes=1001,\n",
        "                                        video_subdir=\"rps\"\n",
        "                                    )\n",
        "\n",
        "# Plot graph of evaluator episode returns\n",
        "plt.plot(np.linspace(0, 1000, len(evaluator_episode_returns)), evaluator_episode_returns)\n",
        "plt.title(\"Random Policy Search\")\n",
        "plt.xlabel(\"Episodes\")\n",
        "plt.ylabel(\"Episode Return\")\n",
        "plt.show()"
      ]
    },
    {
      "cell_type": "markdown",
      "metadata": {
        "id": "TG10FG6uS05A"
      },
      "source": [
        "Надеюсь, вы нашли набор оптимальных параметров на CartPole (возврат эпизода достигает `200`). В ячейке ниже вы можете посмотреть несколько видеороликов агента, выполняющего задание."
      ]
    },
    {
      "cell_type": "code",
      "execution_count": null,
      "metadata": {
        "id": "KgayDJ7KWC4C",
        "colab": {
          "base_uri": "https://localhost:8080/",
          "height": 288
        },
        "outputId": "408f70ea-277c-430e-e886-d9907b2f6d7a"
      },
      "outputs": [
        {
          "output_type": "execute_result",
          "data": {
            "text/plain": [
              "<IPython.core.display.HTML object>"
            ],
            "text/html": [
              "\n",
              "<video width=400 controls>\n",
              "      <source src=\"data:video/mp4;base64,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\" type=\"video/mp4\">\n",
              "</video>\n"
            ]
          },
          "metadata": {},
          "execution_count": 22
        }
      ],
      "source": [
        "#@title Visualise Policy {display-mode: \"form\"}\n",
        "#@markdown Choose an episode number that is a multiple of 100 and less than or equal to 2000, and **run** this cell.\n",
        "episode_number = 1000 #@param {type:\"number\"}\n",
        "\n",
        "assert (episode_number % 100) == 0, \"Episode number must be a multiple of 100 since we only record every 100th episode.\"\n",
        "assert episode_number < 1001, \"Episode number must be less than or equal to 2000\"\n",
        "\n",
        "eval_episode_number = int(episode_number / 100 * 8)\n",
        "video_path = f\"./video/rps/eval/rl-video-episode-{eval_episode_number}.mp4\"\n",
        "\n",
        "mp4 = open(video_path,'rb').read()\n",
        "data_url = \"data:video/mp4;base64,\" + b64encode(mp4).decode()\n",
        "HTML(\"\"\"\n",
        "<video width=400 controls>\n",
        "      <source src=\"%s\" type=\"video/mp4\">\n",
        "</video>\n",
        "\"\"\" % data_url)"
      ]
    },
    {
      "cell_type": "markdown",
      "metadata": {
        "id": "Xwf1IKKbrrVn"
      },
      "source": [
        "Итак, случайный поиск политики справился с этой задачей довольно хорошо. Однако здесь происходит очень мало (если вообще происходит) реального *обучения*. Далее давайте рассмотрим реализацию простого алгоритма RL, который может использовать свой опыт для руководства нашим поиском оптимальной политики, а не просто искать ее случайным образом."
      ]
    },
    {
      "cell_type": "markdown",
      "metadata": {
        "id": "XEnSjZVESrxc"
      },
      "source": [
        "## 3. Градиенты политики  (Policy Gradients, PG)\n",
        "Как обсуждалось, цель RL — найти политику, которая максимизирует ожидаемое совокупное вознаграждение (возврат), которое агент получает от среды. Мы можем записать ожидаемый возврат политики как:\n",
        "\n",
        "$J(\\pi_\\theta)=\\mathrm{E}_{\\tau\\sim\\pi_\\theta}\\ [R(\\tau)]$,\n",
        "\n",
        "где $\\pi_\\theta$ — это политика, параметризованная $\\theta$, $\\mathrm{E}$ означает *ожидание*, $\\tau$ — это сокращение для \"*эпизод*\", $\\tau\\sim\\pi_\\theta$ — это сокращение для \"*эпизоды, выбранные с использованием политики* $\\pi_\\theta$\", а $R(\\tau)$ — это возврат эпизода $\\tau$.\n",
        "\n",
        "Затем, цель в RL — найти параметры $\\theta$, которые максимизируют функцию $J(\\pi_\\theta)$. Один из способов найти эти параметры — выполнить градиентный подъем по $J(\\pi_\\theta)$ относительно параметров $\\theta$:\n",
        "\n",
        "$\\theta_{k+1}=\\theta_k + \\alpha \\nabla J(\\pi_\\theta)|_{\\theta_{k}}$,\n",
        "\n",
        "где $\\nabla J(\\pi_\\theta)|_{\\theta_{k}}$ — градиент ожидаемой доходности относительно параметров политики $\\theta_k$, а $\\alpha$ — размер шага. Эта величина, $\\nabla J(\\pi_\\theta)$, также называется **градиентом политики** и очень важна в RL. Если мы сможем вычислить градиент политики, то у нас будет средство, с помощью которого можно напрямую оптимизировать нашу политику.\n",
        "\n",
        "Как оказалось, у нас есть способ вычислить градиент политики, и математический вывод можно найти [здесь](https://spinningup.openai.com/en/latest/spinningup/rl_intro3.html). Но для этого руководства мы опустим вывод и просто дадим вам результат:\n",
        "\n",
        "$\\nabla_{\\theta} J(\\pi_{\\theta})=\\underset{\\tau \\sim \\pi_{\\theta}}{\\mathrm{E}}[\\sum_{t=0}^{T} \\nabla_{\\theta} \\log \\pi_{\\theta}(a_{t} \\mid s_{t}) R(\\tau)]$\n",
        "\n",
        "Неформально, градиент политики равен градиенту логарифма вероятности выбранного действия, умноженного на возврат эпизода, в котором было предпринято действие.\n"
      ]
    },
    {
      "cell_type": "markdown",
      "metadata": {
        "id": "BTnTzgtSuy-y"
      },
      "source": [
        "### REINFORCE\n",
        "REINFORCE — это простой алгоритм RL, который использует градиент политики для поиска оптимальной политики путем увеличения вероятности выбора действий (усиливающих действий), которые, как правило, приводят к эпизодам с высокой отдачей.\n",
        "\n",
        "**Упражнение 6:** Реализуйте функцию, которая берет вероятность действия и отдачу эпизода, в котором действие было предпринято, и вычисляет логарифм вероятности, умноженный на отдачу. Убедитесь, что вы используете JAX.\n",
        "\n",
        "**Полезные функции:**\n",
        "*   `jax.numpy.log`([docs](https://jax.readthedocs.io/en/latest/_autosummary/jax.numpy.log.html))"
      ]
    },
    {
      "cell_type": "code",
      "execution_count": null,
      "metadata": {
        "id": "bJObUsoUrOyV"
      },
      "outputs": [],
      "source": [
        "def compute_weighted_log_prob(action_prob, episode_return):\n",
        "\n",
        "    # YOUR CODE\n",
        "\n",
        "    # log_porb = ...\n",
        "    log_porb = jax.numpy.log(action_prob)\n",
        "\n",
        "    # weighted_log_prob = ...\n",
        "    weighted_log_prob = log_porb * episode_return\n",
        "\n",
        "    # END YOUR CODE\n",
        "\n",
        "    return weighted_log_prob"
      ]
    },
    {
      "cell_type": "code",
      "execution_count": null,
      "metadata": {
        "id": "eZPoTwa1Gbm1",
        "colab": {
          "base_uri": "https://localhost:8080/"
        },
        "outputId": "e077ae66-4353-4a20-f5b6-6f5bb9b278fe"
      },
      "outputs": [
        {
          "output_type": "stream",
          "name": "stdout",
          "text": [
            "Looks correct.\n"
          ]
        }
      ],
      "source": [
        "#@title Проверка упр 6 {display-mode: \"form\"}\n",
        "\n",
        "try:\n",
        "  action_prob = 0.8\n",
        "  episode_return = 100\n",
        "  result = compute_weighted_log_prob(action_prob, episode_return)\n",
        "  if result != -22.314354:\n",
        "    print(\"Your implementation looks incorrect.\")\n",
        "  else:\n",
        "    print(\"Looks correct.\")\n",
        "except Exception as e:\n",
        "    print(\"An Error Occured: {}\".format(e))"
      ]
    },
    {
      "cell_type": "markdown",
      "metadata": {
        "id": "NmgW9UJ3tIpl"
      },
      "source": [
        "### Rewards-to-go\n",
        "Выполнение градиентного подъема по градиенту логарифма вероятности действия, взвешенного по возврату эпизода, будет иметь тенденцию повышать вероятность действий, которые были в эпизодах с высоким возвратом, независимо от того, *где* в эпизоде ​​было выполнено действие. Это на самом деле не имеет большого смысла, потому что действие ближе к концу эпизода может быть подкреплено, потому что много вознаграждения было собрано ранее в эпизоде, *до* того, как было выполнено действие. Агенты RL должны на самом деле подкреплять действия только на основе их *последствий*. Вознаграждения, полученные до выполнения действия, не влияют на то, насколько хорошим было это действие: только вознаграждения, которые приходят после. Накопленные вознаграждения, полученные после выполнения действия, называются **вознаграждениями-к-переходу** и могут быть вычислены как:\n",
        "\n",
        "$\\hat{R}_i=\\sum_{t=i}^Tr_t$\n",
        "\n",
        "Сравните это с доходностью эпизода:\n",
        "\n",
        "$R(\\tau)=\\sum_{t=0}^Tr_t$\n",
        "\n",
        "Мы можем повысить надежность градиента политики, заменив доходность эпизода на вознаграждения-к-переходу. Градиент политики с оставшимися наградами задается следующим образом:\n",
        "\n",
        "$\\nabla_{\\theta} J(\\pi_{\\theta})=\\underset{\\tau \\sim \\pi_{\\theta}}{\\mathrm{E}}[\\sum_{t=0}^{T} \\nabla_{\\theta} \\log \\pi_{\\theta}(a_{t} \\mid s_{t}) \\hat{R}_t]$\n",
        "\n",
        "**Упражнение 7:** Реализуйте функцию, которая берет список всех наград, полученных в эпизоде, и вычисляет оставшиеся награды. Не беспокойтесь об использовании JAX в этой функции. Вы можете использовать обычные операции Python, такие как `for-loops`."
      ]
    },
    {
      "cell_type": "code",
      "execution_count": null,
      "metadata": {
        "id": "nV1Hww8E3dUJ"
      },
      "outputs": [],
      "source": [
        "def compute_rewards_to_go(rewards):\n",
        "    \"\"\"\n",
        "    This function should take a list of rewards as input and\n",
        "    compute the rewards-to-go for each timestep.\n",
        "\n",
        "    EXAMPLE: compute_rewards_to_go([1,2,3,4]) = [10, 9, 7, 4]\n",
        "\n",
        "    Arguments:\n",
        "        rewards[t] is the reward at time step t.\n",
        "\n",
        "    Returns:\n",
        "        rewards_to_go[t] should be the reward-to-go at timestep t.\n",
        "    \"\"\"\n",
        "\n",
        "    rewards_to_go = []\n",
        "\n",
        "    # YOUR CODE\n",
        "    # ...\n",
        "    rewards_to_go = []\n",
        "\n",
        "    for t in range(len(rewards)):\n",
        "        rewards_to_go.append(sum(rewards[t:]))\n",
        "    # END YOUR CODE\n",
        "\n",
        "    return rewards_to_go"
      ]
    },
    {
      "cell_type": "code",
      "execution_count": null,
      "metadata": {
        "id": "hLVaVRp28YGI",
        "colab": {
          "base_uri": "https://localhost:8080/"
        },
        "outputId": "d57110b5-fd90-418f-b423-294731c18c3b"
      },
      "outputs": [
        {
          "output_type": "stream",
          "name": "stdout",
          "text": [
            "Looks correct.\n"
          ]
        }
      ],
      "source": [
        "#@title Проверка упр 7 {display-mode: \"form\"}\n",
        "\n",
        "try:\n",
        "  result = compute_rewards_to_go([1,2,3,4])\n",
        "\n",
        "  if result != [10, 9, 7, 4]:\n",
        "    print(result)\n",
        "    print(\"There is a problem with your implementation.\")\n",
        "  else:\n",
        "    print(\"Looks correct.\")\n",
        "except Exception as e:\n",
        "    print(\"An Error Occured: {}\".format(e))\n"
      ]
    },
    {
      "cell_type": "markdown",
      "metadata": {
        "id": "IboxN9MS65i5"
      },
      "source": [
        "### REINFORCE memory\n",
        "Далее нам нужно будет создать новую память агента для хранения вознаграждений $\\hat{R}_t$ вместе с наблюдением $o_t$ и действием $a_t$ на каждом временном шаге. Ниже мы реализовали такой модуль памяти для вас. Функция `memory.sample()` вернет пакет из последних 500 воспоминаний. Вы можете прочитать код, чтобы попытаться понять его, но это не обязательно. Поэтому мы скрываем код по умолчанию."
      ]
    },
    {
      "cell_type": "code",
      "execution_count": null,
      "metadata": {
        "id": "xhS4V6auRjM3"
      },
      "outputs": [],
      "source": [
        "# @title Реализация памяти (run me) {display-mode: \"form\"}\n",
        "\n",
        "# NamedTuple to store memory\n",
        "EpisodeRewardsToGoMemory = collections.namedtuple(\"EpisodeRewardsToGoMemory\", [\"obs\", \"action\", \"reward_to_go\"])\n",
        "\n",
        "class EpisodeRewardsToGoBuffer:\n",
        "\n",
        "    def __init__(self, num_transitions_to_store=512, batch_size=256):\n",
        "        self.batch_size = batch_size\n",
        "        self.memory_buffer = collections.deque(maxlen=num_transitions_to_store)\n",
        "        self.current_episode_transition_buffer = []\n",
        "\n",
        "    def push(self, transition):\n",
        "        self.current_episode_transition_buffer.append(transition)\n",
        "\n",
        "        if transition.done:\n",
        "\n",
        "            episode_rewards = []\n",
        "            for t in self.current_episode_transition_buffer:\n",
        "                episode_rewards.append(t.reward)\n",
        "\n",
        "            r2g = compute_rewards_to_go(episode_rewards)\n",
        "\n",
        "            for i, t in enumerate(self.current_episode_transition_buffer):\n",
        "                memory = EpisodeRewardsToGoMemory(t.obs, t.action, r2g[i])\n",
        "                self.memory_buffer.append(memory)\n",
        "\n",
        "            # Reset episode buffer\n",
        "            self.current_episode_transition_buffer = []\n",
        "\n",
        "\n",
        "    def is_ready(self):\n",
        "        return len(self.memory_buffer) >= self.batch_size\n",
        "\n",
        "    def sample(self):\n",
        "        random_memory_sample = random.sample(self.memory_buffer, self.batch_size)\n",
        "\n",
        "        obs_batch, action_batch, reward_to_go_batch = zip(*random_memory_sample)\n",
        "\n",
        "        return EpisodeRewardsToGoMemory(\n",
        "            np.stack(obs_batch).astype(\"float32\"),\n",
        "            np.asarray(action_batch).astype(\"int32\"),\n",
        "            np.asarray(reward_to_go_batch).astype(\"int32\")\n",
        "        )\n",
        "\n",
        "\n",
        "# Instantiate Memory\n",
        "REINFORCE_memory = EpisodeRewardsToGoBuffer(num_transitions_to_store=512, batch_size=256)"
      ]
    },
    {
      "cell_type": "markdown",
      "metadata": {
        "id": "Idkav_aSYXvz"
      },
      "source": [
        "### Policy neural network\n",
        "Далее мы будем использовать простую нейронную сеть для аппроксимации политики. Наша нейронная сеть политики будет иметь входной слой, который принимает наблюдение в качестве входных данных и пропускает его через два скрытых слоя, а затем выводит одно скалярное значение для каждого из возможных действий. Таким образом, в CartPole выходной слой будет иметь размер `2`.\n",
        "\n",
        "[Haiku](https://github.com/deepmind/dm-haiku) — это библиотека для реализации нейронных сетей в JAX. Ниже мы реализовали простую функцию для создания сети политики для вас.\n"
      ]
    },
    {
      "cell_type": "code",
      "execution_count": null,
      "metadata": {
        "id": "j2XO7VkORjM4"
      },
      "outputs": [],
      "source": [
        "def make_policy_network(num_actions: int, layers=[20, 20]) -> hk.Transformed:\n",
        "  \"\"\"Factory for a simple MLP network for the policy.\"\"\"\n",
        "\n",
        "  def policy_network(obs):\n",
        "    network = hk.Sequential(\n",
        "        [\n",
        "            hk.Flatten(),\n",
        "            hk.nets.MLP(layers + [num_actions])\n",
        "        ]\n",
        "    )\n",
        "    return network(obs)\n",
        "\n",
        "  return hk.without_apply_rng(hk.transform(policy_network))"
      ]
    },
    {
      "cell_type": "markdown",
      "metadata": {
        "id": "1GR2y8FjaG-G"
      },
      "source": [
        "У сетей Haiku есть две важные функции, о которых вам нужно знать. Первая — `network.init(<random_key>, <input>)`, которая возвращает набор случайных начальных параметров. Второй метод — `network.apply(<params>, <input>)`, который передает входные данные через сеть, используя предоставленный набор параметров."
      ]
    },
    {
      "cell_type": "code",
      "execution_count": null,
      "metadata": {
        "id": "fJrn9o-Vatkw",
        "colab": {
          "base_uri": "https://localhost:8080/"
        },
        "outputId": "d1ecd78c-64a5-411e-ac9c-f09cd026036e"
      },
      "outputs": [
        {
          "output_type": "stream",
          "name": "stdout",
          "text": [
            "Initial params: dict_keys(['mlp/~/linear_0', 'mlp/~/linear_1', 'mlp/~/linear_2'])\n",
            "Policy network output: [ 0.91155875 -0.3961737 ]\n"
          ]
        }
      ],
      "source": [
        "# Example\n",
        "POLICY_NETWORK = make_policy_network(num_actions=num_actions, layers=[20,20])\n",
        "random_key = jax.random.PRNGKey(42) # random key\n",
        "dummy_obs = np.ones(obs_shape, \"float32\")\n",
        "\n",
        "# Initialise parameters\n",
        "REINFORCE_params = POLICY_NETWORK.init(random_key, dummy_obs)\n",
        "print(\"Initial params:\", REINFORCE_params.keys())\n",
        "\n",
        "# Pass input through the network\n",
        "output = POLICY_NETWORK.apply(REINFORCE_params, dummy_obs)\n",
        "print(\"Policy network output:\", output)\n"
      ]
    },
    {
      "cell_type": "markdown",
      "metadata": {
        "id": "MlouUBvoeunz"
      },
      "source": [
        "Выходы нашей сети политик — [логиты](https://qr.ae/pv4YTe). Чтобы преобразовать это в распределение вероятностей по действиям, мы передаем логиты в функцию [softmax](https://en.wikipedia.org/wiki/Softmax_function).\n",
        "\n",
        "### УСИЛЕНИЕ выбор функции действия\n",
        "\n",
        "**Упражнение 8:** Завершите функцию ниже, которая берет вектор логитов и случайным образом выбирает действие из категориального распределения, заданного логитами.\n",
        "\n",
        "**Полезные функции:**"
      ]
    },
    {
      "cell_type": "code",
      "execution_count": null,
      "metadata": {
        "id": "m3Z8DxUmeOGJ"
      },
      "outputs": [],
      "source": [
        "def sample_action(random_key, logits):\n",
        "\n",
        "  # YOUR CODE HERE\n",
        "  # ...\n",
        "  action = jax.random.categorical(logits=logits, key=random_key)\n",
        "  # END YOUR code\n",
        "\n",
        "  return action"
      ]
    },
    {
      "cell_type": "code",
      "execution_count": null,
      "metadata": {
        "id": "5opHJMO0D_Ub",
        "colab": {
          "base_uri": "https://localhost:8080/"
        },
        "outputId": "377a8dae-b9ca-4314-9bf3-a98c13a088cb"
      },
      "outputs": [
        {
          "output_type": "stream",
          "name": "stdout",
          "text": [
            "Seems correct.\n"
          ]
        }
      ],
      "source": [
        "#@title Проверка упр 8 {display-mode: \"form\"}\n",
        "\n",
        "try:\n",
        "  random_key = jax.random.PRNGKey(42) # random key\n",
        "  action = sample_action(random_key, np.array([1,2], \"float32\"))\n",
        "  if action != 1:\n",
        "    print(\"Your function is incorrect.\")\n",
        "  else:\n",
        "    print(\"Seems correct.\")\n",
        "except Exception as e:\n",
        "    print(\"An Error Occured: {}\".format(e))"
      ]
    },
    {
      "cell_type": "markdown",
      "metadata": {
        "id": "jP5UH87VRjM4"
      },
      "source": [
        "Теперь мы можем реализовать функцию `REINFORCE_choose_action`. Мы передадим наблюдение через сеть политики для вычисления логитов, а затем передадим логиты в функцию `sample_action` для выбора и действия."
      ]
    },
    {
      "cell_type": "code",
      "execution_count": null,
      "metadata": {
        "id": "UJTzrDAZ0Ul5"
      },
      "outputs": [],
      "source": [
        "def REINFORCE_choose_action(key, params, actor_state, obs, evaluation=False):\n",
        "  obs = jnp.expand_dims(obs, axis=0) # add dummy batch dim before passing through network\n",
        "\n",
        "  # Pass obs through policy network to compute logits\n",
        "  logits = POLICY_NETWORK.apply(params, obs)\n",
        "  logits = logits[0] # remove batch dim\n",
        "\n",
        "  # Randomly sample action\n",
        "  sampled_action = sample_action(key, logits)\n",
        "\n",
        "  return sampled_action, actor_state"
      ]
    },
    {
      "cell_type": "markdown",
      "metadata": {
        "id": "NI26SLAb7iRo"
      },
      "source": [
        "Теперь, когда мы реализовали функцию `REINFORCE_choose_action`, нам осталось только создать функцию `REINFORCE_learn`. Функция обучения должна использовать функцию `weighted_log_prob`, которую мы создали ранее, чтобы вычислить потери градиента политики и применить обновления градиента к нашей нейронной сети."
      ]
    },
    {
      "cell_type": "markdown",
      "metadata": {
        "id": "36ALCJESQJ8e"
      },
      "source": [
        "### Policy gradient loss\n",
        "\n",
        "\n",
        "**Упражнение 9:** Завершите функцию `policy_gradient_loss` ниже. Функция должна вычислять вероятности действий, пропуская `logits` через функцию softmax. Затем следует извлечь вероятность заданного `action` (используя индексацию массива) и вычислить `weighted_log_prob`, используя функцию, которую мы создали ранее.\n",
        "\n",
        "**Полезные методы:**\n",
        "*   `jax.nn.softmax` ([docs](https://jax.readthedocs.io/en/latest/_autosummary/jax.nn.softmax.html))"
      ]
    },
    {
      "cell_type": "code",
      "execution_count": null,
      "metadata": {
        "id": "9sUKkqx0RjM4"
      },
      "outputs": [],
      "source": [
        "def policy_gradient_loss(action, logits, reward_to_go):\n",
        "\n",
        "  # YOUR CODE\n",
        "\n",
        "  # all_action_probs = ...\n",
        "  all_action_probs = jax.nn.softmax(x=logits) # convert logits into probs\n",
        "\n",
        "  # action_prob = ...\n",
        "  action_prob = all_action_probs[action] # using array indexing to get prob of action\n",
        "\n",
        "  # weighted_log_prob = ...\n",
        "  weighted_log_prob = compute_weighted_log_prob(action_prob=action_prob, episode_return=reward_to_go)\n",
        "\n",
        "  # END YOUR CODE\n",
        "\n",
        "  loss = - weighted_log_prob # negative because we want gradient `ascent`\n",
        "\n",
        "  return loss"
      ]
    },
    {
      "cell_type": "code",
      "execution_count": null,
      "metadata": {
        "id": "7AMJvau1FsM5",
        "colab": {
          "base_uri": "https://localhost:8080/"
        },
        "outputId": "15e54b2f-eec7-4f33-c06d-8cb440a340af"
      },
      "outputs": [
        {
          "output_type": "stream",
          "name": "stdout",
          "text": [
            "3.1326165\n",
            "Your implementation looks wrong.\n"
          ]
        }
      ],
      "source": [
        "#@title Проверка упр 9 {display-mode: \"form\"}\n",
        "\n",
        "try:\n",
        "  result = policy_gradient_loss(1, np.array([1,2], \"float32\"), 10)\n",
        "  print(result)\n",
        "  if result != 3.1326175:\n",
        "    print(\"Your implementation looks wrong.\")\n",
        "  else:\n",
        "    print(\"Looks correct.\")\n",
        "except Exception as e:\n",
        "  print(\"An Error Occured: {}\".format(e))\n"
      ]
    },
    {
      "cell_type": "markdown",
      "metadata": {
        "id": "Gzuqx1jJrwVx"
      },
      "source": [
        "Когда мы делаем шаг обновления градиента политики, мы захотим сделать это, используя пакет опыта, а не просто один опыт, как выше. Мы можем использовать функцию JAX [vmap](https://jax.readthedocs.io/en/latest/_autosummary/jax.vmap.html#jax.vmap), чтобы легко заставить нашу функцию `policy_gradient_loss` работать с пакетом опыта."
      ]
    },
    {
      "cell_type": "code",
      "execution_count": null,
      "metadata": {
        "id": "3yq4naLURjM4",
        "colab": {
          "base_uri": "https://localhost:8080/"
        },
        "outputId": "d903c3c6-3f5c-480f-b8af-b3a2d2c4b381"
      },
      "outputs": [
        {
          "output_type": "stream",
          "name": "stdout",
          "text": [
            "Policy gradient loss on batch: 1.6967314\n"
          ]
        }
      ],
      "source": [
        "def batched_policy_gradient_loss(params, obs_batch, action_batch, reward_to_go_batch):\n",
        "    # Get logits by passing observation through network\n",
        "    logits_batch = POLICY_NETWORK.apply(params, obs_batch)\n",
        "\n",
        "    policy_gradient_loss_batch = jax.vmap(policy_gradient_loss)(\n",
        "        action_batch,\n",
        "        logits_batch,\n",
        "        reward_to_go_batch) # add batch\n",
        "\n",
        "    # Compute mean loss over batch\n",
        "    mean_policy_gradient_loss = jnp.mean(policy_gradient_loss_batch)\n",
        "\n",
        "    return mean_policy_gradient_loss\n",
        "\n",
        "# TEST\n",
        "obs_batch = np.ones((3, *obs_shape), \"float32\")\n",
        "actions_batch = np.array([1,0,0])\n",
        "rew2go_batch = np.array([2.3, 4.3, 2.1])\n",
        "\n",
        "loss = batched_policy_gradient_loss(REINFORCE_params, obs_batch, actions_batch, rew2go_batch)\n",
        "\n",
        "print(\"Policy gradient loss on batch:\", loss)"
      ]
    },
    {
      "cell_type": "markdown",
      "metadata": {
        "id": "VDhTH3culwqo"
      },
      "source": [
        "### Оптимизатор сети\n",
        "\n",
        "Чтобы применить обновления градиента политики к нашей нейронной сети, мы будем использовать библиотеку JAX под названием [Optax](https://github.com/deepmind/optax). Optax имеет реализацию [оптимизатора Adam](https://www.geeksforgeeks.org/intuition-of-adam-optimizer/), которую мы можем использовать."
      ]
    },
    {
      "cell_type": "code",
      "execution_count": null,
      "metadata": {
        "id": "pxXINlMHP5Ic"
      },
      "outputs": [],
      "source": [
        "REINFORCE_OPTIMIZER = optax.adam(1e-3)\n",
        "\n",
        "# Initialise the optimiser\n",
        "REINFORCE_optim_state = REINFORCE_OPTIMIZER.init(REINFORCE_params)"
      ]
    },
    {
      "cell_type": "markdown",
      "metadata": {
        "id": "ViENrHOALbCw"
      },
      "source": [
        "Теперь у нас есть все необходимое для создания функции `REINFORCE_learn`. Мы сохраним состояние оптимизатора в `learn_state`. Мы вычислим градиент потерь градиента политики с помощью  `jax.grad` ([docs](https://jax.readthedocs.io/en/latest/_autosummary/jax.grad.html))."
      ]
    },
    {
      "cell_type": "code",
      "execution_count": null,
      "metadata": {
        "id": "CQr2Uz5ORjM5"
      },
      "outputs": [],
      "source": [
        "# A NamedTuple to store the state of the optimiser\n",
        "REINFORCELearnState = collections.namedtuple(\"LearnerState\", [\"optim_state\"])\n",
        "\n",
        "\n",
        "def REINFORCE_learn(key, params, learner_state, memory):\n",
        "\n",
        "  # Get the policy gradient by using `jax.grad()` on `batched_policy_gradient_loss`\n",
        "  grad_loss = jax.grad(batched_policy_gradient_loss)(params, memory.obs, memory.action, memory.reward_to_go)\n",
        "\n",
        "  # Get param updates using gradient and optimizer\n",
        "  updates, new_optim_state = REINFORCE_OPTIMIZER.update(grad_loss, learner_state.optim_state)\n",
        "\n",
        "  # Apply updates to params\n",
        "  params = optax.apply_updates(params, updates)\n",
        "\n",
        "  return params, REINFORCELearnState(new_optim_state) # update learner state"
      ]
    },
    {
      "cell_type": "markdown",
      "metadata": {
        "id": "5an3U2NhRKgG"
      },
      "source": [
        "### Цикл обучения REINFORCE\n",
        "Теперь мы можем обучить нашего агента REINFORCE, собрав все воедино с помощью цикла обучения."
      ]
    },
    {
      "cell_type": "code",
      "execution_count": null,
      "metadata": {
        "id": "vioIcVGsRjM5",
        "colab": {
          "base_uri": "https://localhost:8080/",
          "height": 680
        },
        "outputId": "889b9034-55e0-4de9-95dd-78f0be848def"
      },
      "outputs": [
        {
          "output_type": "stream",
          "name": "stdout",
          "text": [
            "Starting training. This may take up to 10 minutes to complete.\n",
            "Episode: 0\tEpisode Return: 12.0\tAverage Episode Return: 12.0\tEvaluator Episode Return: 20.625\n",
            "Episode: 100\tEpisode Return: 110.0\tAverage Episode Return: 64.2\tEvaluator Episode Return: 58.75\n",
            "Episode: 200\tEpisode Return: 179.0\tAverage Episode Return: 155.35\tEvaluator Episode Return: 154.75\n",
            "Episode: 300\tEpisode Return: 200.0\tAverage Episode Return: 197.05\tEvaluator Episode Return: 200.0\n",
            "Episode: 400\tEpisode Return: 200.0\tAverage Episode Return: 200.0\tEvaluator Episode Return: 167.0\n",
            "Episode: 500\tEpisode Return: 135.0\tAverage Episode Return: 196.75\tEvaluator Episode Return: 192.125\n",
            "Episode: 600\tEpisode Return: 200.0\tAverage Episode Return: 173.1\tEvaluator Episode Return: 200.0\n",
            "Episode: 700\tEpisode Return: 200.0\tAverage Episode Return: 191.35\tEvaluator Episode Return: 188.125\n",
            "Episode: 800\tEpisode Return: 200.0\tAverage Episode Return: 200.0\tEvaluator Episode Return: 200.0\n",
            "Episode: 900\tEpisode Return: 200.0\tAverage Episode Return: 200.0\tEvaluator Episode Return: 200.0\n",
            "Episode: 1000\tEpisode Return: 180.0\tAverage Episode Return: 191.45\tEvaluator Episode Return: 193.625\n"
          ]
        },
        {
          "output_type": "display_data",
          "data": {
            "text/plain": [
              "<Figure size 640x480 with 1 Axes>"
            ],
            "image/png": "[encoded data removed]"
          },
          "metadata": {}
        }
      ],
      "source": [
        "# JIT the choose_action and learn functions for more speed\n",
        "REINFORCE_learn_jit = jax.jit(REINFORCE_learn)\n",
        "REINFORCE_choose_action_jit = jax.jit(REINFORCE_choose_action)\n",
        "\n",
        "# Initial learn state\n",
        "REINFORCE_learn_state = REINFORCELearnState(REINFORCE_optim_state)\n",
        "\n",
        "# Run training loop\n",
        "print(\"Starting training. This may take up to 10 minutes to complete.\")\n",
        "episode_returns, evaluator_returns = run_training_loop(\n",
        "                                        env_name,\n",
        "                                        REINFORCE_params,\n",
        "                                        REINFORCE_choose_action_jit,\n",
        "                                        None, # action state not used\n",
        "                                        REINFORCE_learn_jit,\n",
        "                                        REINFORCE_learn_state,\n",
        "                                        REINFORCE_memory,\n",
        "                                        num_episodes=1001,\n",
        "                                        learn_steps_per_episode=2,\n",
        "                                        video_subdir=\"reinforce\"\n",
        "                                      )\n",
        "\n",
        "# Plot the episode returns\n",
        "plt.plot(episode_returns)\n",
        "plt.xlabel(\"Episode\")\n",
        "plt.ylabel(\"Episode Return\")\n",
        "plt.title(\"REINFORCE\")\n",
        "plt.show()\n"
      ]
    },
    {
      "cell_type": "code",
      "execution_count": null,
      "metadata": {
        "id": "caKL3ngNr_Yh",
        "colab": {
          "base_uri": "https://localhost:8080/",
          "height": 288
        },
        "outputId": "df1064eb-9361-42ac-be76-d436cd5e9e51"
      },
      "outputs": [
        {
          "output_type": "execute_result",
          "data": {
            "text/plain": [
              "<IPython.core.display.HTML object>"
            ],
            "text/html": [
              "\n",
              "<video width=400 controls>\n",
              "      <source src=\"data:video/mp4;base64,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\" type=\"video/mp4\">\n",
              "</video>\n"
            ]
          },
          "metadata": {},
          "execution_count": 39
        }
      ],
      "source": [
        "#@title Визуализация {display-mode: \"form\"}\n",
        "#@markdown Выберите номер эпизода, менее или равного 1000, и **run this cell**.\n",
        "\n",
        "episode_number = 1000 #@param {type:\"number\"}\n",
        "\n",
        "assert (episode_number % 100) == 0, \"Episode number must be a multiple of 100 since we only record every 100th episode.\"\n",
        "assert episode_number < 1001, \"Episode number must be less than or equal to 1000\"\n",
        "\n",
        "eval_episode_number = int(episode_number / 100 * 8)\n",
        "video_path = f\"./video/reinforce/eval/rl-video-episode-{eval_episode_number}.mp4\"\n",
        "\n",
        "mp4 = open(video_path,'rb').read()\n",
        "data_url = \"data:video/mp4;base64,\" + b64encode(mp4).decode()\n",
        "HTML(\"\"\"\n",
        "<video width=400 controls>\n",
        "      <source src=\"%s\" type=\"video/mp4\">\n",
        "</video>\n",
        "\"\"\" % data_url)"
      ]
    },
    {
      "cell_type": "markdown",
      "metadata": {
        "id": "D_HHzFTOc-Qr"
      },
      "source": [
        "## 4. Q-Learning\n",
        "Другим распространенным подходом к поиску оптимальной политики в среде с использованием RL является Q-обучение."
      ]
    },
    {
      "cell_type": "markdown",
      "metadata": {
        "id": "lF1nOZrUSzhE"
      },
      "source": [
        "### Функция значения состояния-действия\n",
        "В Q-обучении агент изучает функцию, которая аппроксимирует **значение** пар состояние-действие. Под *значением* мы подразумеваем отдачу, которую вы ожидаете получить, если начнете в определенном состоянии $s_t$, выполните определенное действие $a_t$, а затем будете действовать в соответствии с определенной политикой $\\pi$ навсегда. Функция значения состояния-действия политики $\\pi$ задается как\n",
        "\n",
        "$Q_\\pi(s,a)=\\mathrm{E}_{\\tau\\sim\\pi}\\left[R(\\tau) \\mid s_0=s,\\ a_t=a\\right]$.\n",
        "\n",
        "Мы говорим, что функция значения $Q_\\pi(s,a)$ является **оптимальной** функцией значения, если политика $\\pi$ является оптимальной политикой. Обозначим функцию оптимального значения следующим образом:\n",
        "\n",
        "$Q_\\ast(s,a)=\\max \\limits_\\pi \\ \\mathrm{E}_{\\tau\\sim\\pi}\\left[R(\\tau) \\mid s_0=s,\\ a_0=a\\right]$\n",
        "\n",
        "Существует важная связь между оптимальным действием $a_\\ast$ в состоянии $s$ и оптимальной функцией значения состояния-действия $Q_\\ast$. А именно, оптимальное действие $a_\\ast$ в состоянии $s$ равно действию, которое максимизирует оптимальную функцию значения состояния-действия. Эта связь естественным образом индуцирует оптимальную политику:\n",
        "\n",
        "$\\pi_\\ast(s)=\\arg \\max \\limits_a\\ Q_\\ast(s, a)$"
      ]
    },
    {
      "cell_type": "markdown",
      "metadata": {
        "id": "H2x2tqvZSihz"
      },
      "source": [
        "### Greedy action selection (Жадный выбор действия)\n",
        "\n",
        "**Упражнение 10:** Давайте реализуем функцию, которая, учитывая вектор Q-значений, возвращает действие с наибольшим Q-значением (т. е. жадное действие).\n",
        "\n",
        "**Useful methods:**\n",
        "*   `jax.numpy.argmax` ([docs](https://jax.readthedocs.io/en/latest/_autosummary/jax.numpy.argmax.html))"
      ]
    },
    {
      "cell_type": "code",
      "execution_count": null,
      "metadata": {
        "id": "Nn9P1YdzTIDU"
      },
      "outputs": [],
      "source": [
        "# Implement a function takes q-values as input and returns the greedy_action\n",
        "def select_greedy_action(q_values):\n",
        "\n",
        "  # YOUR CODE\n",
        "  # action = ...\n",
        "  action = jax.numpy.argmax(a=q_values)\n",
        "  # END YOUR CODE\n",
        "\n",
        "  return action"
      ]
    },
    {
      "cell_type": "code",
      "execution_count": null,
      "metadata": {
        "id": "ZBzLr_G7QKXR",
        "colab": {
          "base_uri": "https://localhost:8080/"
        },
        "outputId": "0ccd38a5-7f8f-4dce-b0ac-1ae184bbe39f"
      },
      "outputs": [
        {
          "output_type": "stream",
          "name": "stdout",
          "text": [
            "Looks good.\n"
          ]
        }
      ],
      "source": [
        "# @title Проверка упр 10 (run me) {display-mode: \"form\"}\n",
        "\n",
        "try:\n",
        "  q_values = jnp.array([1,1,3,4])\n",
        "  action = select_greedy_action(q_values)\n",
        "\n",
        "  if action != 3:\n",
        "    print(\"Incorrect answer, your greedy action selector looks wrong\")\n",
        "  else:\n",
        "    print(\"Looks good.\")\n",
        "except Exception as e:\n",
        "  print(\"An Error Occured: {}\".format(e))\n"
      ]
    },
    {
      "cell_type": "markdown",
      "metadata": {
        "id": "PFQUlqZ4ZyLp"
      },
      "source": [
        "### Q-Network\n",
        "В отличие от подхода с градиентом политики из предыдущего раздела, в Q-обучении и других методах RL на основе значений нам не нужна параметризация для политики, вместо этого мы параметризуем Q-функцию с помощью нейронной сети $Q_\\theta$. Мы получаем политику из Q-сети, всегда выбирая действие с *наибольшим* значением:\n",
        "\n",
        "$\\hat{\\pi}_\\theta(s)=\\arg \\max \\limits_a\\ Q_{\\theta}(s, a)$\n",
        "\n",
        "Как и ранее, мы будем использовать хайку для создания нейронной сети для аппроксимации этой Q-функции. Сеть будет принимать наблюдение в качестве входных данных, а затем выводить Q-значение для каждого из доступных действий. Таким образом, в случае CartPole выход сети будет иметь размер $2$."
      ]
    },
    {
      "cell_type": "code",
      "execution_count": null,
      "metadata": {
        "id": "9wU1soJYZyLp"
      },
      "outputs": [],
      "source": [
        "def build_network(num_actions: int, layers=[20, 20]) -> hk.Transformed:\n",
        "  \"\"\"Factory for a simple MLP network for approximating Q-values.\"\"\"\n",
        "\n",
        "  def q_network(obs):\n",
        "    network = hk.Sequential(\n",
        "        [hk.Flatten(),\n",
        "         hk.nets.MLP(layers + [num_actions])])\n",
        "    return network(obs)\n",
        "\n",
        "  return hk.without_apply_rng(hk.transform(q_network))"
      ]
    },
    {
      "cell_type": "markdown",
      "metadata": {
        "id": "sUwG-4qTS1zx"
      },
      "source": [
        "Давайте инициализируем нашу Q-сеть и получим начальные параметры."
      ]
    },
    {
      "cell_type": "code",
      "execution_count": null,
      "metadata": {
        "id": "1uvq5n2cS9lu",
        "colab": {
          "base_uri": "https://localhost:8080/"
        },
        "outputId": "a5f705f2-ebf0-42ce-b950-57df93503138"
      },
      "outputs": [
        {
          "output_type": "stream",
          "name": "stdout",
          "text": [
            "Q-Learning params: dict_keys(['mlp/~/linear_0', 'mlp/~/linear_1', 'mlp/~/linear_2'])\n"
          ]
        }
      ],
      "source": [
        "# Initialise Q-network\n",
        "Q_NETWORK = build_network(num_actions=num_actions, layers=[20, 20]) # two actions\n",
        "\n",
        "dummy_obs = jnp.zeros((1,*obs_shape), jnp.float32) # a dummy observation like the one in CartPole\n",
        "\n",
        "random_key = jax.random.PRNGKey(42) # random key\n",
        "Q_NETWORK_PARAMS = Q_NETWORK.init(random_key, dummy_obs) # Get initial params\n",
        "\n",
        "print(\"Q-Learning params:\", Q_NETWORK_PARAMS.keys())"
      ]
    },
    {
      "cell_type": "markdown",
      "metadata": {
        "id": "iqCUeZfhEfyP"
      },
      "source": [
        "Прежде чем мы реализуем функцию потерь, необходимую для обучения нашей Q-сети, давайте сначала обсудим интуицию, стоящую за ней."
      ]
    },
    {
      "cell_type": "markdown",
      "metadata": {
        "id": "vbLig3uSZyLp"
      },
      "source": [
        "### The Bellman Equations (Уравнения Беллмана)\n",
        "Функция значения может быть записана рекурсивно как:\n",
        "\n",
        "$Q_{\\pi}(s, a) =\\underset{s^{\\prime} \\sim P}{\\mathrm{E}}\\left[r(s, a)+ \\underset{a^{\\prime} \\sim \\pi}{\\mathrm{E}}\\left[Q_{\\pi}\\left(s^{\\prime}, a^{\\prime}\\right)\\right]\\right]$,\n",
        "\n",
        "где $s' \\sim P$ — это сокращение для обозначения того, что следующее состояние $s'$ выбирается из функции перехода среды $P(s'\\mid s,a)$. Интуитивно это уравнение говорит, что ценность действия $a$, которое вы предприняли в состоянии $s$, равна вознаграждению $r$, которое вы ожидаете получить, плюс ценность, которую вы ожидаете получить в следующем состоянии $s`$, в котором вы окажетесь, при условии, что вы выберете свое следующее действие $a`$ с политикой $\\pi$. Уравнение Беллмана для оптимальной функции ценности выглядит так:\n",
        "\n",
        "$Q_{*}(s, a) =\\underset{s^{\\prime} \\sim P}{\\mathrm{E}}\\left[r(s, a)+\\ \\underset{a^{\\prime}}{\\max}\\ Q_{*}(s^{\\prime}, a^{\\prime})\\right]$\n",
        "\n",
        "Обратите внимание, что вместо выбора вашего следующего действия $a`$ с политикой $\\pi$ мы выбираем действие с наибольшим значением Q.\n",
        "\n",
        "Более подробное обсуждение уравнений Беллмана можно найти на сайте [OpenAI Spinning Up](https://spinningup.openai.com/en/latest/spinningup/rl_intro.html)."
      ]
    },
    {
      "cell_type": "markdown",
      "metadata": {
        "id": "DsOJi5G8ZyLp"
      },
      "source": [
        "### The Bellman Backup (Резервное копирование Беллмана)\n",
        "\n",
        "Чтобы научиться аппроксимировать оптимальную функцию Q-значения, мы можем использовать правую часть уравнения Беллмана в качестве правила обновления. Другими словами, предположим, что у нас есть Q-сеть $Q_\\theta$, аппроксимированная с использованием параметров $\\theta$, тогда мы можем итеративно обновлять параметры таким образом, что\n",
        "\n",
        "$Q_\\theta(s,a)\\leftarrow r(s, a) + \\underset{a'}{\\max}\\ Q_\\theta(s', a')$.\n",
        "\n",
        "Интуитивно это означает, что аппроксимация Q-значения действия $a$ в состоянии $s$ должна быть обновлена ​​таким образом, чтобы она была ближе к равной вознаграждению, полученному от среды $r(s, a)$, плюс значение наилучшего возможного действия в следующем состоянии $s'$. Мы можем выполнить эту оптимизацию, минимизируя разницу между левой и правой частью относительно параметров $\\theta$, используя градиентный спуск. Мы можем измерить разницу между двумя значениями, используя [квадратичную ошибку](https://en.wikipedia.org/wiki/Mean_squared_error#Loss_function).\n",
        "\n",
        "**Упражнение 11:** Реализуйте функцию квадратичной ошибки.\n",
        "\n",
        "**Полезные функции**\n",
        "* `jax.numpy.square` ([docs](https://jax.readthedocs.io/en/latest/_autosummary/jax.numpy.square.html))"
      ]
    },
    {
      "cell_type": "code",
      "execution_count": null,
      "metadata": {
        "id": "PTto__ohZyLp"
      },
      "outputs": [],
      "source": [
        "def compute_squared_error(pred, target):\n",
        "  # YOUR CODE\n",
        "  # squared_error = ...\n",
        "  squared_error = jax.numpy.square(pred - target)\n",
        "  # END YOUR CODE\n",
        "\n",
        "  return squared_error"
      ]
    },
    {
      "cell_type": "code",
      "execution_count": null,
      "metadata": {
        "id": "wGhX8XTFVPVU",
        "colab": {
          "base_uri": "https://localhost:8080/"
        },
        "outputId": "ea4ea230-f90c-4631-db6b-96922d16c7d0"
      },
      "outputs": [
        {
          "output_type": "stream",
          "name": "stdout",
          "text": [
            "Looks good.\n"
          ]
        }
      ],
      "source": [
        "#@title Проверка упр 11 {display-mode: \"form\"}\n",
        "\n",
        "try:\n",
        "  result = compute_squared_error(1, 4)\n",
        "\n",
        "  if result != 9:\n",
        "    print(\"Your implementation looks wrong.\")\n",
        "  else:\n",
        "    print(\"Looks good.\")\n",
        "except Exception as e:\n",
        "  print(\"An Error Occured: {}\".format(e))"
      ]
    },
    {
      "cell_type": "markdown",
      "metadata": {
        "id": "ycpZVkgdZyLp"
      },
      "source": [
        "**Упражнение 12:** Реализуйте функцию, которая вычисляет **цель Беллмана** (правая часть уравнения Беллмана). Если эпизод находится на последнем временном шаге (т. е. done==1.0), то цель Беллмана должна быть равна награде, без дополнительного значения в конце.\n",
        "\n",
        "**Полезные функции**\n",
        "* `jax.numpy.max` ([docs](https://jax.readthedocs.io/en/latest/_autosummary/jax.numpy.max.html))"
      ]
    },
    {
      "cell_type": "code",
      "execution_count": null,
      "metadata": {
        "id": "961_OllWZyLp"
      },
      "outputs": [],
      "source": [
        "# Bellman target\n",
        "def compute_bellman_target(reward, done, next_q_values):\n",
        "  \"\"\"A function to compute the bellman target.\n",
        "\n",
        "  Args:\n",
        "      reward: a scalar reward.\n",
        "      done: a scalar of value either 1.0 or 0.0, indicating if the transition is a terminal one.\n",
        "      next_q_values: a vector of q_values for the next state. One for each action.\n",
        "  Returns:\n",
        "      A scalar equal to the bellman target.\n",
        "\n",
        "  \"\"\"\n",
        "  # YOUR CODE\n",
        "  # bellman_target = ...\n",
        "  bellman_target = reward + jax.numpy.max(a=next_q_values) * (1.0 - done)\n",
        "  # END YOUR CODE\n",
        "\n",
        "  return bellman_target"
      ]
    },
    {
      "cell_type": "code",
      "execution_count": null,
      "metadata": {
        "id": "E5RAhegOWAkC",
        "colab": {
          "base_uri": "https://localhost:8080/"
        },
        "outputId": "654c33a5-ced1-4d69-a092-99dad82e4a03"
      },
      "outputs": [
        {
          "output_type": "stream",
          "name": "stdout",
          "text": [
            "Looks good.\n"
          ]
        }
      ],
      "source": [
        "#@title Проверка упр 12 {display-mode: \"form\"}\n",
        "\n",
        "try:\n",
        "  # not done\n",
        "  result1 = compute_bellman_target(1, 0.0, np.array([3,2], \"float32\"))\n",
        "\n",
        "  # done\n",
        "  result2 = compute_bellman_target(1, 1.0, np.array([3,2], \"float32\"))\n",
        "\n",
        "  if result1 != 4 or result2 != 1:\n",
        "    print(\"Your implementation looks wrong.\")\n",
        "  else:\n",
        "    print(\"Looks good.\")\n",
        "except Exception as e:\n",
        "  print(\"An Error Occured: {}\".format(e))"
      ]
    },
    {
      "cell_type": "markdown",
      "metadata": {
        "id": "8sIjrHSJZyLq"
      },
      "source": [
        "Теперь мы можем объединить эти две функции, чтобы вычислить потерю для Q-обучения. Потери Q-обучения равны квадрату разницы между прогнозируемым значением Q действия и его соответствующей целью Беллмана.\n",
        "\n",
        "**Упражнение 13:** Реализуйте функцию потери Q-обучения."
      ]
    },
    {
      "cell_type": "code",
      "execution_count": null,
      "metadata": {
        "id": "LJY_kpFcZyLq"
      },
      "outputs": [],
      "source": [
        "def q_learning_loss(q_values, action, reward, done, next_q_values):\n",
        "    \"\"\"Implementation of the Q-learning loss.T\n",
        "\n",
        "    Args:\n",
        "        q_values: a vector of Q-values, one for each action.\n",
        "        action: an integer, giving the action that was chosen. q_values[action] is the value of the chose action.\n",
        "        done: is a scalar that indicates if this is a terminal transition.\n",
        "        next_q_values: a vector of Q-values in the next state.\n",
        "    Returns:\n",
        "        The squared difference between the q_value of the chosen action and the bellman target.\n",
        "    \"\"\"\n",
        "    # YOUR CODE\n",
        "    # chosen_action_q_value = ...\n",
        "    chosen_action_q_value = q_values[action] # q_value of action, use array indexing\n",
        "    # bellman_target = ...\n",
        "    bellman_target = compute_bellman_target(done=done, next_q_values=next_q_values, reward=reward)\n",
        "    # squared_error = ...\n",
        "    squared_error = compute_squared_error(pred=chosen_action_q_value, target=bellman_target)\n",
        "    # END YOUR CODE\n",
        "\n",
        "    return squared_error"
      ]
    },
    {
      "cell_type": "code",
      "execution_count": null,
      "metadata": {
        "id": "1aZRn1qaWx2M",
        "colab": {
          "base_uri": "https://localhost:8080/"
        },
        "outputId": "da5d74e4-8710-450f-a15c-857a90445c65"
      },
      "outputs": [
        {
          "output_type": "stream",
          "name": "stdout",
          "text": [
            "Looks good.\n"
          ]
        }
      ],
      "source": [
        "#@title Проверка упр 13 {display-mode: \"form\"}\n",
        "\n",
        "try:\n",
        "  result = q_learning_loss(np.array([3,2], \"float32\"), 1, 2, 0.0, np.array([3,2], \"float32\"))\n",
        "\n",
        "  if result != 9.0:\n",
        "    print(\"Your implementation looks wrong.\")\n",
        "  else:\n",
        "    print(\"Looks good.\")\n",
        "except Exception as e:\n",
        "  print(\"An Error Occured: {}\".format(e))"
      ]
    },
    {
      "cell_type": "markdown",
      "metadata": {
        "id": "b4YnSUfJZyLq"
      },
      "source": [
        "### Target Q-network (Целевая Q-сеть)\n",
        "Обратите внимание: когда мы вычисляем цель Беллмана, мы используем нашу Q-сеть $Q_\\theta$ для вычисления значения для следующего состояния $s_t$. По сути, мы используем наше последнее приближение Q-функции для вычисления цели нашего следующего приближения. Использование приближения для вычисления цели для вашего следующего приближения называется самозагрузкой. К сожалению, если мы наивно делаем такую ​​самозагрузку, это может сделать обучение нейронной сети очень нестабильным. Чтобы смягчить это, мы можем вместо этого использовать другой набор параметров $\\hat{\\theta}$ для вычисления значений в состоянии $s_{t+1}$. Мы будем сохранять параметры $\\hat{\\theta}$ фиксированными и только периодически обновлять их, чтобы они были равны последним онлайн-параметрам $\\theta$ каждые пару шагов обучения *(скажем, 100)*. Это позволяет сохранять фиксированные цели Беллмана для пары шагов обучения, чтобы помочь снизить нестабильность из-за самозагрузки.\n",
        "\n",
        "Нам нужно будет отслеживать последние (онлайн) параметры, а также параметры целевых сетей. Давайте создадим `NamedTuple` для хранения этих двух значений. Нам также нужно будет отслеживать количество шагов обучения, которые мы сделали, чтобы знать, когда обновлять целевую сеть. Давайте сохраним `count` шагов обучения в `learn_state`."
      ]
    },
    {
      "cell_type": "code",
      "execution_count": null,
      "metadata": {
        "id": "DvZqUKmq6L7k"
      },
      "outputs": [],
      "source": [
        "# Store online and target parameters\n",
        "QLearnParams = collections.namedtuple(\"Params\", [\"online\", \"target\"])\n",
        "\n",
        "# Q-learn-state\n",
        "QLearnState = collections.namedtuple(\"LearnerState\", [\"count\", \"optim_state\"])"
      ]
    },
    {
      "cell_type": "markdown",
      "metadata": {
        "id": "CJWH2_kNZsau"
      },
      "source": [
        "Мы снова будем использовать Optax для оптимизации нашей нейронной сети в JAX. Мы сохраняем состояние оптимизатора в `learn_state` выше. Давайте теперь создадим экземпляр оптимизатора и добавим начальные параметры Q-сети в объект `QLearnParams`."
      ]
    },
    {
      "cell_type": "code",
      "execution_count": null,
      "metadata": {
        "id": "HwqKTN6BaAXE"
      },
      "outputs": [],
      "source": [
        "# Initialise Q-network optimizer\n",
        "Q_LEARN_OPTIMIZER = optax.adam(3e-4) # learning rate\n",
        "\n",
        "Q_LEARN_OPTIM_STATE = Q_LEARN_OPTIMIZER.init(Q_NETWORK_PARAMS) # initial optim state\n",
        "\n",
        "# Create Learn State\n",
        "Q_LEARNING_LEARN_STATE = QLearnState(0, Q_LEARN_OPTIM_STATE) # count set to zero initially\n",
        "\n",
        "# Add initial Q-network weights to QLearnParams object\n",
        "Q_LEARNING_PARAMS = QLearnParams(online=Q_NETWORK_PARAMS, target=Q_NETWORK_PARAMS) # target equal to online"
      ]
    },
    {
      "cell_type": "markdown",
      "metadata": {
        "id": "xj89M8LgZlFe"
      },
      "source": [
        "Теперь мы можем реализовать простую функцию, которая обновляет параметры целевых сетей, чтобы они соответствовали последним онлайн-параметрам каждые 100 шагов обучения."
      ]
    },
    {
      "cell_type": "code",
      "execution_count": null,
      "metadata": {
        "id": "SKrg_3rO6cCL"
      },
      "outputs": [],
      "source": [
        "def update_target_params(learn_state, online_weights, target_weights):\n",
        "  \"\"\"A function to update target params every 100 training steps\"\"\"\n",
        "\n",
        "  target = jax.lax.cond(\n",
        "      jax.numpy.mod(learn_state.count, 100) == 0,\n",
        "      lambda x, y: x,\n",
        "      lambda x, y: y,\n",
        "      online_weights,\n",
        "      target_weights\n",
        "  )\n",
        "\n",
        "  params = QLearnParams(online_weights, target)\n",
        "\n",
        "  return params"
      ]
    },
    {
      "cell_type": "markdown",
      "metadata": {
        "id": "KoiaYSo9ZyLq"
      },
      "source": [
        "### Q-learning loss (Функция потери Q-обучения)\n",
        "Теперь у нас есть все необходимое для реализации функции `q_learn`, которая принимает некоторую партию переходов и выполняет шаг Q-обучения для обновления параметров сети. Но сначала мы используем `jax.vmap` для изменения функции `q_learning_loss` так, чтобы она принимала партии переходов. Кроме того, мы вычислим Q-значения, передавая наблюдения через `Q_NETWORK`, и целевые Q-значения, используя целевые параметры `Q_NETWORK`."
      ]
    },
    {
      "cell_type": "code",
      "execution_count": null,
      "metadata": {
        "id": "hnrsGppWZyLq"
      },
      "outputs": [],
      "source": [
        "def batched_q_learning_loss(online_params, target_params, obs, actions, rewards, next_obs, dones):\n",
        "    q_values = Q_NETWORK.apply(online_params, obs) # use the online parameters\n",
        "    next_q_values = Q_NETWORK.apply(target_params, next_obs) # use the target parameters\n",
        "    squared_error = jax.vmap(q_learning_loss)(q_values, actions, rewards, dones, next_q_values) # vmap q_learning_loss\n",
        "    mean_squared_error = jnp.mean(squared_error) # mean squared error over batch\n",
        "    return mean_squared_error"
      ]
    },
    {
      "cell_type": "markdown",
      "metadata": {
        "id": "CU8vo9ZebnEa"
      },
      "source": [
        "Теперь мы можем создать функцию `q_learn`, которая вычисляет градиент `batched_q_learning_loss`, а затем использует оптимизатор Optax для обновления весов сети, а затем, наконец (возможно), обновляет целевые параметры."
      ]
    },
    {
      "cell_type": "code",
      "execution_count": null,
      "metadata": {
        "id": "6BYoX2W_ZyLr"
      },
      "outputs": [],
      "source": [
        "def q_learn(rng, params, learner_state, memory):\n",
        "  # Compute gradients\n",
        "  grad_loss = jax.grad(batched_q_learning_loss)(params.online, params.target, memory.obs,\n",
        "                                          memory.action, memory.reward,\n",
        "                                          memory.next_obs, memory.done,\n",
        "                                          ) # jax.grad\n",
        "\n",
        "  # Get updates\n",
        "  updates, opt_state = Q_LEARN_OPTIMIZER.update(grad_loss, learner_state.optim_state)\n",
        "\n",
        "  # Apply them\n",
        "  new_weights = optax.apply_updates(params.online, updates)\n",
        "\n",
        "  # Maybe update target network\n",
        "  params = update_target_params(learner_state, new_weights, params.target)\n",
        "\n",
        "  # Increment learner step counter\n",
        "  learner_state = QLearnState(learner_state.count + 1, opt_state)\n",
        "\n",
        "  return params, learner_state"
      ]
    },
    {
      "cell_type": "markdown",
      "metadata": {
        "id": "VpZsKHssZyLq"
      },
      "source": [
        "### Replay Buffer (Буфер воспроизведения)\n",
        "Для Q-обучения нам понадобится память агента, которая хранит целые переходы: `obs`, `action`, `reward`, `next_obs`, `done`. Когда мы извлекаем переходы из памяти, они должны выбираться случайным образом из всех переходов, собранных до сих пор. В RL мы часто называем такой модуль **буфером воспроизведения**.\n",
        "\n",
        "Одним из преимуществ использования такого буфера воспроизведения является то, что опыт можно повторно использовать несколько раз для обучения, в отличие от алгоритма градиента политики REINFORCE, где мы отбрасывали воспоминания после их использования для обучения."
      ]
    },
    {
      "cell_type": "code",
      "execution_count": null,
      "metadata": {
        "id": "8tv5dUH6ZyLr"
      },
      "outputs": [],
      "source": [
        "class TransitionMemory(object):\n",
        "  \"\"\"A simple Python replay buffer.\"\"\"\n",
        "\n",
        "  def __init__(self, max_size=10_000, batch_size=256):\n",
        "    self.batch_size = batch_size\n",
        "    self.buffer = collections.deque(maxlen=max_size)\n",
        "\n",
        "  def push(self, transition):\n",
        "\n",
        "    # add transition to the replay buffer\n",
        "    self.buffer.append(\n",
        "        (transition.obs, transition.action, transition.reward,\n",
        "          transition.next_obs, transition.done)\n",
        "    )\n",
        "\n",
        "\n",
        "  def is_ready(self):\n",
        "    return self.batch_size <= len(self.buffer)\n",
        "\n",
        "  def sample(self):\n",
        "    # Randomly sample a batch of transitions from the buffer\n",
        "    random_replay_sample = random.sample(self.buffer, self.batch_size)\n",
        "\n",
        "    # Batch the transitions together\n",
        "    obs_batch, action_batch, reward_batch, next_obs_batch, done_batch = zip(*random_replay_sample)\n",
        "\n",
        "    return Transition(\n",
        "        np.stack(obs_batch).astype(\"float32\"),\n",
        "        np.asarray(action_batch).astype(\"int32\"),\n",
        "        np.asarray(reward_batch).astype(\"float32\"),\n",
        "        np.stack(next_obs_batch).astype(\"float32\"),\n",
        "        np.asarray(done_batch).astype(\"float32\")\n",
        "    )\n",
        "\n",
        "# Instantiate the memory\n",
        "Q_LEARNING_MEMORY = TransitionMemory(max_size=50_000, batch_size=256)"
      ]
    },
    {
      "cell_type": "markdown",
      "metadata": {
        "id": "XbHk03VVUHAV"
      },
      "source": [
        "### Случайное исследование\n",
        "У нас почти есть все, что нужно для функционирующего агента Q-обучения. Но одна проблема заключается в том, что если мы всегда выбираем действие с наивысшим значением Q, то политика агента будет полностью [детерминированной](https://www.quora.com/What-is-the-intuitive-difference-between-a-stochastic-model-and-a-deterministic-model). Это означает, что агент всегда будет выбирать одну и ту же стратегию. Это может представлять проблему, поскольку в начале обучения Q-сеть будет очень неточной (т. е. плохой аппроксимацией истинной Q-функции). Таким образом, агент будет последовательно выбирать неоптимальные действия. Более того, агент никогда не отклонится от своей неоптимальной стратегии и никогда не обнаружит новые, потенциально более полезные действия. В результате Q-сеть остается неточной. В идеале агент должен опробовать много разных стратегий, чтобы он мог наблюдать результаты (вознаграждения) своих действий в разных состояниях и таким образом улучшить приближение Q-функции.\n",
        "\n",
        "Один простой способ гарантировать, что агент опробует много разных действий, — позволить ему периодически выбирать некоторые случайные действия вместо жадного (лучшего) действия все время.\n",
        "\n",
        "**Упражнение 14:** Реализуйте функцию, которая, учитывая количество возможных (дискретных) действий, возвращает случайное действие.\n",
        "\n",
        "**Полезные методы:**\n",
        "\n",
        "*  `jax.random.randint` ([docs](https://jax.readthedocs.io/en/latest/_autosummary/jax.random.randint.html))"
      ]
    },
    {
      "cell_type": "code",
      "execution_count": null,
      "metadata": {
        "id": "uUKkpMLXUtko"
      },
      "outputs": [],
      "source": [
        "def select_random_action(key, num_actions):\n",
        "\n",
        "    # YOUR CODE\n",
        "    # action = ...\n",
        "    action = jax.random.randint(key=key, minval=0, maxval=num_actions, shape=())\n",
        "    # END YOUR CODE\n",
        "\n",
        "    return action"
      ]
    },
    {
      "cell_type": "code",
      "execution_count": null,
      "metadata": {
        "id": "NO6va6S2Y40E",
        "colab": {
          "base_uri": "https://localhost:8080/"
        },
        "outputId": "d2fb8d29-f48b-4441-d676-dbd3388b5b0a"
      },
      "outputs": [
        {
          "output_type": "stream",
          "name": "stdout",
          "text": [
            "Looks good.\n"
          ]
        }
      ],
      "source": [
        "#@title Проверка упр 14 {display-mode: \"form\"}\n",
        "\n",
        "try:\n",
        "  random_key1 = random_key = jax.random.PRNGKey(6) # random key\n",
        "  random_key2 = random_key = jax.random.PRNGKey(1000) # random key\n",
        "  result1 = select_random_action(random_key1, 2)\n",
        "  result2 = select_random_action(random_key2, 2)\n",
        "\n",
        "  if result1 != 1 or result2 != 0:\n",
        "    print(\"Your implementation looks wrong.\")\n",
        "  else:\n",
        "    print(\"Looks good.\")\n",
        "except:\n",
        "  print(\"Your implementation looks wrong.\")"
      ]
    },
    {
      "cell_type": "markdown",
      "metadata": {
        "id": "8-kKDFT6XU6y"
      },
      "source": [
        "### $\\varepsilon$-greedy action selection (эпсилон жадный выбор действия)\n",
        "В начале обучения, когда точность Q-сети низкая, агенту стоит в основном совершать случайные действия, чтобы он мог узнать, насколько хороши/плохи действия. Однако по мере повышения точности Q-сети агент должен начать совершать меньше случайных действий и вместо этого начать выбирать жадные действия относительно Q-значений. Выбор лучших действий с учетом текущей Q-сети называется **эксплуатацией**. В RL мы часто называем отношение случайных и жадных действий **эпсилоном** $\\varepsilon$. Эпсилон обычно представляет собой десятичное значение в интервале $[0,1]$, где, например, $\\varepsilon=0.4$ означает, что агент выбирает случайное действие в 40% случаев, а жадное действие — в 60% случаев. В RL принято линейно уменьшать значение эпсилон с течением времени, так что агент становится все более жадным по мере повышения точности его Q-сети в процессе обучения.\n",
        "\n",
        "**Упражнение 15:** Реализуйте функцию, которая принимает количество временных шагов в качестве входных данных и возвращает текущее значение эпсилон."
      ]
    },
    {
      "cell_type": "code",
      "execution_count": null,
      "metadata": {
        "id": "_qejnbCocurG"
      },
      "outputs": [],
      "source": [
        "EPSILON_DECAY_TIMESTEPS = 3000 # decay epsilon over 3000 timesteps\n",
        "EPSILON_MIN = 0.1 # 10% exploration"
      ]
    },
    {
      "cell_type": "code",
      "execution_count": null,
      "metadata": {
        "id": "5ujSbssCZyLs"
      },
      "outputs": [],
      "source": [
        "def get_epsilon(num_timesteps):\n",
        "  # YOUR CODE\n",
        "  # epsilon = ...\n",
        "  epsilon = 1.0 - (num_timesteps / EPSILON_DECAY_TIMESTEPS) # decay epsilon\n",
        "\n",
        "  epsilon = jax.lax.select(\n",
        "      epsilon < EPSILON_MIN,\n",
        "      # ...\n",
        "      EPSILON_MIN, # if less than min then set to min\n",
        "      # ...\n",
        "      epsilon # else don't change epsilon\n",
        "  )\n",
        "  # END YOUR CODE\n",
        "\n",
        "  return epsilon"
      ]
    },
    {
      "cell_type": "code",
      "execution_count": null,
      "metadata": {
        "id": "hvu4zA64aUou",
        "colab": {
          "base_uri": "https://localhost:8080/"
        },
        "outputId": "ee29e73c-aa21-4753-bb47-dbda65224d5c"
      },
      "outputs": [
        {
          "output_type": "stream",
          "name": "stdout",
          "text": [
            "Your function looks correct.\n"
          ]
        }
      ],
      "source": [
        "#@title Проверка упр 15 {display-mode: \"form\"}\n",
        "def check_get_epsilon(get_epsilon):\n",
        "  try:\n",
        "    result1 = get_epsilon(10)\n",
        "    result2 = get_epsilon(5_010)\n",
        "\n",
        "    if result1 != 0.99666667 or result2 != 0.1:\n",
        "      print(\"Your function looks wrong.\")\n",
        "    else:\n",
        "      print(\"Your function looks correct.\")\n",
        "  except:\n",
        "    print(\"Your function looks wrong.\")\n",
        "\n",
        "check_get_epsilon(get_epsilon)\n"
      ]
    },
    {
      "cell_type": "markdown",
      "metadata": {
        "id": "t56oo58TVQ_s"
      },
      "source": [
        "**Упражнение 16:** Теперь давайте объединим эти функции для выполнения эпсилон-жадного выбора действия."
      ]
    },
    {
      "cell_type": "code",
      "execution_count": null,
      "metadata": {
        "id": "NlQx8K4vKUXj"
      },
      "outputs": [],
      "source": [
        "def select_epsilon_greedy_action(key, q_values, num_timesteps):\n",
        "    num_actions = len(q_values) # number of available actions\n",
        "\n",
        "    # YOUR CODE HERE\n",
        "    # epsilon = ...\n",
        "    epsilon = get_epsilon(num_timesteps) # get epsilon value\n",
        "\n",
        "    # should_explore = ...\n",
        "    should_explore = jax.random.uniform(key, shape=()) < epsilon # hint: a boolean expression to check if some random number is less than epsilon\n",
        "\n",
        "    explore_action = select_random_action(key, num_actions)\n",
        "    greedy_action = jax.numpy.argmax(q_values)\n",
        "\n",
        "    action = jax.lax.select(\n",
        "        should_explore,\n",
        "        # ...\n",
        "        explore_action, # if should explore\n",
        "        # ...\n",
        "        greedy_action # if should be greedy\n",
        "    )\n",
        "    # END YOUR CODE\n",
        "\n",
        "    return action"
      ]
    },
    {
      "cell_type": "code",
      "execution_count": null,
      "metadata": {
        "id": "mkVU2a5e7P6b",
        "colab": {
          "base_uri": "https://localhost:8080/"
        },
        "outputId": "1d9d7373-03d6-460a-8df8-eb8ecdbfb36b"
      },
      "outputs": [
        {
          "output_type": "stream",
          "name": "stdout",
          "text": [
            "Looks correct!\n"
          ]
        }
      ],
      "source": [
        "#@title Проверка упражнения 16 {display-mode: \"form\"}\n",
        "\n",
        "try:\n",
        "  rng = hk.PRNGSequence(jax.random.PRNGKey(42))\n",
        "  dummy_q_values = jnp.array([0,1], jnp.float32)\n",
        "  num_timesteps = 5010 # very greedy\n",
        "  actions1 = []\n",
        "  for i in range(10):\n",
        "      actions1.append(int(select_epsilon_greedy_action(next(rng), dummy_q_values, num_timesteps)))\n",
        "\n",
        "  num_timesteps = 0 # completly random\n",
        "  actions2 = []\n",
        "  for i in range(10):\n",
        "      actions2.append(int(select_epsilon_greedy_action(next(rng), dummy_q_values, num_timesteps)))\n",
        "\n",
        "  if actions1 != [1, 1, 0, 1, 1, 0, 1, 1, 1, 1] or actions2 != [0, 0, 0, 1, 1, 1, 1, 0, 0, 0]:\n",
        "    print(\"Looks like something might be incorrect!\")\n",
        "  else:\n",
        "    print(\"Looks correct!\")\n",
        "except:\n",
        "  print(\"Looks like something might be incorrect!\")"
      ]
    },
    {
      "cell_type": "markdown",
      "metadata": {
        "id": "y5W23MnobN9x"
      },
      "source": [
        "### Действие выбора Q-learning\n",
        "\n",
        "Теперь у нас есть все необходимое для создания функции `q_learning_select_action`. Мы будем использовать `actor_state` для хранения счетчика, который отслеживает текущее количество временных шагов. Мы можем использовать счетчик для уменьшения нашего значения `epsilon`."
      ]
    },
    {
      "cell_type": "code",
      "execution_count": null,
      "metadata": {
        "id": "81TysLc0RjM6"
      },
      "outputs": [],
      "source": [
        "# Actor state stores the current number of timesteps\n",
        "QActorState = collections.namedtuple(\"ActorState\", [\"count\"])\n",
        "\n",
        "def q_learning_select_action(key, params, actor_state, obs, evaluation=False):\n",
        "    obs = jnp.expand_dims(obs, axis=0) # add dummy batch dim\n",
        "    q_values = Q_NETWORK.apply(params.online, obs)[0] # remove batch dim\n",
        "\n",
        "    action = select_epsilon_greedy_action(key, q_values, actor_state.count)\n",
        "    greedy_action = select_greedy_action(q_values)\n",
        "\n",
        "    action = jax.lax.select(\n",
        "        evaluation,\n",
        "        greedy_action,\n",
        "        action\n",
        "    )\n",
        "\n",
        "    next_actor_state = QActorState(actor_state.count + 1) # increment timestep counter\n",
        "\n",
        "    return action, next_actor_state\n",
        "\n",
        "Q_LEARNING_ACTOR_STATE = QActorState(0) # counter set to zero"
      ]
    },
    {
      "cell_type": "markdown",
      "metadata": {
        "id": "z884-1oNRGEr"
      },
      "source": [
        "### Обучение\n",
        "Теперь мы можем собрать все вместе, используя цикл агент-среда. Но сначала давайте объединим функцию выбора действия и функцию обучения для дополнительной скорости."
      ]
    },
    {
      "cell_type": "code",
      "execution_count": null,
      "metadata": {
        "id": "xbdHDbd1RjM8",
        "colab": {
          "base_uri": "https://localhost:8080/",
          "height": 680
        },
        "outputId": "491025cc-fbdc-4ad5-c458-b3652b4541e2"
      },
      "outputs": [
        {
          "output_type": "stream",
          "name": "stdout",
          "text": [
            "Starting training. This may take up to 8 minutes to complete.\n",
            "Episode: 0\tEpisode Return: 16.0\tAverage Episode Return: 16.0\tEvaluator Episode Return: 9.75\n",
            "Episode: 100\tEpisode Return: 11.0\tAverage Episode Return: 12.9\tEvaluator Episode Return: 9.5\n",
            "Episode: 200\tEpisode Return: 12.0\tAverage Episode Return: 10.0\tEvaluator Episode Return: 9.375\n",
            "Episode: 300\tEpisode Return: 10.0\tAverage Episode Return: 9.9\tEvaluator Episode Return: 8.75\n",
            "Episode: 400\tEpisode Return: 9.0\tAverage Episode Return: 11.45\tEvaluator Episode Return: 9.25\n",
            "Episode: 500\tEpisode Return: 37.0\tAverage Episode Return: 54.6\tEvaluator Episode Return: 52.375\n",
            "Episode: 600\tEpisode Return: 200.0\tAverage Episode Return: 149.45\tEvaluator Episode Return: 176.125\n",
            "Episode: 700\tEpisode Return: 200.0\tAverage Episode Return: 175.35\tEvaluator Episode Return: 180.75\n",
            "Episode: 800\tEpisode Return: 200.0\tAverage Episode Return: 179.1\tEvaluator Episode Return: 188.25\n",
            "Episode: 900\tEpisode Return: 200.0\tAverage Episode Return: 196.15\tEvaluator Episode Return: 200.0\n",
            "Episode: 1000\tEpisode Return: 120.0\tAverage Episode Return: 114.65\tEvaluator Episode Return: 137.0\n"
          ]
        },
        {
          "output_type": "display_data",
          "data": {
            "text/plain": [
              "<Figure size 640x480 with 1 Axes>"
            ],
            "image/png": "[encoded data removed]"
          },
          "metadata": {}
        }
      ],
      "source": [
        "# Jit functions\n",
        "q_learning_select_action_jit = jax.jit(q_learning_select_action)\n",
        "q_learn_jit = jax.jit(q_learn)\n",
        "\n",
        "# Run environment loop\n",
        "print(\"Starting training. This may take up to 8 minutes to complete.\")\n",
        "episode_returns, evaluator_returns = run_training_loop(\n",
        "                                        env_name,\n",
        "                                        Q_LEARNING_PARAMS,\n",
        "                                        q_learning_select_action_jit,\n",
        "                                        Q_LEARNING_ACTOR_STATE,\n",
        "                                        q_learn_jit,\n",
        "                                        Q_LEARNING_LEARN_STATE,\n",
        "                                        Q_LEARNING_MEMORY,\n",
        "                                        num_episodes=1001,\n",
        "                                        train_every_timestep=True, # do learning after every timestep\n",
        "                                        video_subdir=\"q_learning\"\n",
        "                                    )\n",
        "\n",
        "plt.plot(episode_returns)\n",
        "plt.xlabel(\"Episodes\")\n",
        "plt.ylabel(\"Episode Return\")\n",
        "plt.title(\"Deep Q-Learning\")\n",
        "plt.show()"
      ]
    },
    {
      "cell_type": "markdown",
      "metadata": {
        "id": "2k0-41wbpFDE"
      },
      "source": [
        "На этом этапе, как мы надеемся, приближенная Q-функция сошлась к приемлемой политике балансировки шеста в задаче CartPole."
      ]
    },
    {
      "cell_type": "code",
      "execution_count": null,
      "metadata": {
        "id": "t4v0ZbB4FQUs",
        "colab": {
          "base_uri": "https://localhost:8080/",
          "height": 288
        },
        "outputId": "60468757-ba82-4d7a-8394-f501532f43e7",
        "cellView": "form"
      },
      "outputs": [
        {
          "output_type": "execute_result",
          "data": {
            "text/plain": [
              "<IPython.core.display.HTML object>"
            ],
            "text/html": [
              "\n",
              "<video width=400 controls>\n",
              "      <source src=\"data:video/mp4;base64,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\" type=\"video/mp4\">\n",
              "</video>\n"
            ]
          },
          "metadata": {},
          "execution_count": 65
        }
      ],
      "source": [
        "#@title Визуализация политики\n",
        "#@markdown Выберите номер эпизода, кратный 100 и меньший или равный 1000, и **запустите эту ячейку**.\n",
        "episode_number = 600 #@param {type:\"number\"}\n",
        "\n",
        "assert (episode_number % 100) == 0, \"Episode number must be a multiple of 100 since we only record every 100th episode.\"\n",
        "assert episode_number < 1001, \"Episode number must be less than or equal to 1000\"\n",
        "\n",
        "\n",
        "eval_episode_number = int(episode_number / 100 * 8)\n",
        "video_path = f\"./video/q_learning/eval/rl-video-episode-{eval_episode_number}.mp4\"\n",
        "\n",
        "mp4 = open(video_path,'rb').read()\n",
        "data_url = \"data:video/mp4;base64,\" + b64encode(mp4).decode()\n",
        "HTML(\"\"\"\n",
        "<video width=400 controls>\n",
        "      <source src=\"%s\" type=\"video/mp4\">\n",
        "</video>\n",
        "\"\"\" % data_url)"
      ]
    },
    {
      "cell_type": "markdown",
      "metadata": {
        "id": "fV3YG7QOZD-B"
      },
      "source": [
        "Кроме того, существует множество алгоритмов RL, которые вносят существенные улучшения в REINFORCE и Deep Q-Learning. См. эти ресурсы:\n",
        "* [REINFORCE с базовым уровнем](https://spinningup.openai.com/en/latest/spinningup/rl_intro3.html#baselines-in-policy-gradients)\n",
        "* [Double Deep Q-Network](https://arxiv.org/pdf/1509.06461.pdf)\n",
        "* [Proximal Policy Optimisation (PPO)](https://arxiv.org/pdf/1707.06347.pdf)\n",
        "\n",
        "Если вы ищете более углубленный онлайн-курс по RL, вы можете ознакомиться с этими курсами:\n",
        "* [Reinforcement Learning Foundations on LinkedIn Learning](https://www.linkedin.com/learning/reinforcement-learning-foundations) (создано одним из наших собственных преподавателей, Хаулатом Абдулхакимом)\n",
        "* [Введение в Reinforcement Learning on FreeCodeCamp](https://www.freecodecamp.org/news/an-introduction-to-reinforcement-learning-4339519de419/)\n",
        "* [Специализация обучения с подкреплением на Coursera](https://www.coursera.org/specializations/reinforcement-learning)\n",
        "\n",
        "Наконец, самый влиятельный учебник по обучению с подкреплением доступен бесплатно онлайн:\n",
        "* [Обучение с подкреплением: введение](http://incompleteideas.net/book/the-book-2nd.html) Ричарда С. Саттона и Эндрю Г. Барто\n",
        "\n",
        "\n",
        "**Ссылки:**\n",
        "\n",
        "* [OpenAI Spinning Up](https://spinningup.openai.com/en/latest/)\n",
        "* [Deep Q-Network]()"
      ]
    }
  ],
  "metadata": {
    "colab": {
      "provenance": [],
      "gpuType": "T4",
      "toc_visible": true
    },
    "kernelspec": {
      "display_name": "Python 3",
      "name": "python3"
    },
    "language_info": {
      "codemirror_mode": {
        "name": "ipython",
        "version": 3
      },
      "file_extension": ".py",
      "mimetype": "text/x-python",
      "name": "python",
      "nbconvert_exporter": "python",
      "pygments_lexer": "ipython3",
      "version": "3.8.13"
    },
    "vscode": {
      "interpreter": {
        "hash": "0f35138c66f99be0fd7a1210bb4aa94a6fbaa5f29d51ad43aec0e0ea0ff050f0"
      }
    }
  },
  "nbformat": 4,
  "nbformat_minor": 0
}